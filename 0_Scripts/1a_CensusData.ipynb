{
 "cells": [
  {
   "cell_type": "markdown",
   "metadata": {},
   "source": [
    "# Vulnerability Ireland \n",
    "\n",
    "The 2016 Census is used to derive the vulnerability index for Ireland. In order to use this data, first the relevant data needs to be identified and then normalised. Below is the method used to do this."
   ]
  },
  {
   "cell_type": "markdown",
   "metadata": {},
   "source": [
    "## Census Data\n",
    "\n",
    "The Central Statistics Office (CSO) has produced a dataset of [small area statistics](https://www.cso.ie/en/census/census2016reports/census2016smallareapopulationstatistics/) for the 2016 Census. This will be the main data source for use with the Irish Vulnerbility Assessment.\n"
   ]
  },
  {
   "cell_type": "markdown",
   "metadata": {},
   "source": [
    "### R Libraries\n",
    "\n",
    "The relvant R libraries are imported in to the kernal:"
   ]
  },
  {
   "cell_type": "code",
   "execution_count": 1,
   "metadata": {
    "scrolled": false
   },
   "outputs": [
    {
     "name": "stderr",
     "output_type": "stream",
     "text": [
      "Registered S3 methods overwritten by 'ggplot2':\n",
      "  method         from \n",
      "  [.quosures     rlang\n",
      "  c.quosures     rlang\n",
      "  print.quosures rlang\n",
      "Registered S3 method overwritten by 'rvest':\n",
      "  method            from\n",
      "  read_xml.response xml2\n",
      "-- Attaching packages --------------------------------------- tidyverse 1.2.1 --\n",
      "v ggplot2 3.1.1       v purrr   0.3.2  \n",
      "v tibble  2.1.1       v dplyr   0.8.0.1\n",
      "v tidyr   0.8.3       v stringr 1.4.0  \n",
      "v readr   1.3.1       v forcats 0.4.0  \n",
      "-- Conflicts ------------------------------------------ tidyverse_conflicts() --\n",
      "x dplyr::filter() masks stats::filter()\n",
      "x dplyr::lag()    masks stats::lag()\n"
     ]
    }
   ],
   "source": [
    "# load the libraries\n",
    "library(tidyverse)"
   ]
  },
  {
   "cell_type": "markdown",
   "metadata": {},
   "source": [
    "### Import the csv data\n",
    "\n",
    "The data can be imported directly from the CSO website (this is the default) or using a local version."
   ]
  },
  {
   "cell_type": "code",
   "execution_count": 3,
   "metadata": {},
   "outputs": [],
   "source": [
    "#get the data from the CSO website\n",
    "smallAreaCSOData <- read.csv(\"https://www.cso.ie/en/media/csoie/census/census2016/census2016boundaryfiles/SAPS2016_SA2017.csv\",  header=TRUE, sep=\",\")\n",
    "\n",
    "#get the data locally\n",
    "# smallAreaCSOData <- read.csv(\"../../CSOData/SAPS2016_SA2017.csv\", header=TRUE, sep=\",\", stringsAsFactors = FALSE)\n"
   ]
  },
  {
   "cell_type": "markdown",
   "metadata": {},
   "source": [
    "## Select only the relevant data"
   ]
  },
  {
   "cell_type": "markdown",
   "metadata": {},
   "source": [
    "In total there are 799 different variables in the small area dataset. However, only a smaller subset are useful for our purposes. We therefore need to extract the relevant data, then combine these to create our vulnerability indicators.\n",
    "\n",
    "The dataset also includes data that is at the persons level (number of people in a small area) and the household level (number of households in a small area). As the preprocessing is slightly different for each, they are treated differently below."
   ]
  },
  {
   "cell_type": "markdown",
   "metadata": {},
   "source": [
    "### Small Area ID\n",
    "\n",
    "First, we need to get the unique ID data for each of the small areas:"
   ]
  },
  {
   "cell_type": "code",
   "execution_count": 4,
   "metadata": {},
   "outputs": [],
   "source": [
    "smallAreaID <- smallAreaCSOData[, c('GUID'), drop = FALSE]"
   ]
  },
  {
   "cell_type": "markdown",
   "metadata": {},
   "source": [
    "### Persons Level Data\n",
    "\n",
    "We then get the persons level data and combine the variables together to create indicators:"
   ]
  },
  {
   "cell_type": "code",
   "execution_count": 5,
   "metadata": {},
   "outputs": [
    {
     "data": {
      "text/html": [
       "<table>\n",
       "<thead><tr><th scope=col>GUID</th><th scope=col>populationTotal</th><th scope=col>young</th><th scope=col>old</th><th scope=col>priSch</th><th scope=col>poorHealth</th><th scope=col>disability</th><th scope=col>unemploy</th><th scope=col>lowSkill</th><th scope=col>farming</th><th scope=col>rent</th><th scope=col>education</th><th scope=col>engLang</th><th scope=col>newRes</th><th scope=col>travelTime</th></tr></thead>\n",
       "<tbody>\n",
       "\t<tr><td>4c07d11e-11d3-851d-e053-ca3ca8c0ca7f</td><td>395                                 </td><td>37                                  </td><td>14                                  </td><td>70                                  </td><td>6                                   </td><td>51                                  </td><td>53                                  </td><td>87                                  </td><td>59                                  </td><td>14                                  </td><td>1                                   </td><td>1                                   </td><td>4                                   </td><td>33                                  </td></tr>\n",
       "\t<tr><td>4c07d11e-123a-851d-e053-ca3ca8c0ca7f</td><td>344                                 </td><td>32                                  </td><td>22                                  </td><td>37                                  </td><td>3                                   </td><td>49                                  </td><td>47                                  </td><td>61                                  </td><td>38                                  </td><td>25                                  </td><td>1                                   </td><td>1                                   </td><td>7                                   </td><td>17                                  </td></tr>\n",
       "\t<tr><td>4c07d11e-14b1-851d-e053-ca3ca8c0ca7f</td><td>405                                 </td><td>45                                  </td><td> 8                                  </td><td>74                                  </td><td>5                                   </td><td>52                                  </td><td>79                                  </td><td>62                                  </td><td> 7                                  </td><td>89                                  </td><td>3                                   </td><td>8                                   </td><td>5                                   </td><td>25                                  </td></tr>\n",
       "\t<tr><td>4c07d11e-14b2-851d-e053-ca3ca8c0ca7f</td><td>276                                 </td><td>13                                  </td><td>26                                  </td><td>22                                  </td><td>3                                   </td><td>44                                  </td><td>50                                  </td><td>55                                  </td><td>21                                  </td><td>31                                  </td><td>0                                   </td><td>1                                   </td><td>6                                   </td><td>18                                  </td></tr>\n",
       "\t<tr><td>4c07d11d-f709-851d-e053-ca3ca8c0ca7f</td><td>243                                 </td><td>20                                  </td><td>11                                  </td><td>33                                  </td><td>3                                   </td><td>27                                  </td><td>27                                  </td><td>72                                  </td><td>60                                  </td><td>16                                  </td><td>1                                   </td><td>3                                   </td><td>2                                   </td><td>17                                  </td></tr>\n",
       "\t<tr><td>4c07d11e-1237-851d-e053-ca3ca8c0ca7f</td><td>319                                 </td><td>22                                  </td><td>26                                  </td><td>47                                  </td><td>6                                   </td><td>46                                  </td><td>50                                  </td><td>79                                  </td><td>60                                  </td><td>30                                  </td><td>6                                   </td><td>1                                   </td><td>6                                   </td><td>20                                  </td></tr>\n",
       "</tbody>\n",
       "</table>\n"
      ],
      "text/latex": [
       "\\begin{tabular}{r|lllllllllllllll}\n",
       " GUID & populationTotal & young & old & priSch & poorHealth & disability & unemploy & lowSkill & farming & rent & education & engLang & newRes & travelTime\\\\\n",
       "\\hline\n",
       "\t 4c07d11e-11d3-851d-e053-ca3ca8c0ca7f & 395                                  & 37                                   & 14                                   & 70                                   & 6                                    & 51                                   & 53                                   & 87                                   & 59                                   & 14                                   & 1                                    & 1                                    & 4                                    & 33                                  \\\\\n",
       "\t 4c07d11e-123a-851d-e053-ca3ca8c0ca7f & 344                                  & 32                                   & 22                                   & 37                                   & 3                                    & 49                                   & 47                                   & 61                                   & 38                                   & 25                                   & 1                                    & 1                                    & 7                                    & 17                                  \\\\\n",
       "\t 4c07d11e-14b1-851d-e053-ca3ca8c0ca7f & 405                                  & 45                                   &  8                                   & 74                                   & 5                                    & 52                                   & 79                                   & 62                                   &  7                                   & 89                                   & 3                                    & 8                                    & 5                                    & 25                                  \\\\\n",
       "\t 4c07d11e-14b2-851d-e053-ca3ca8c0ca7f & 276                                  & 13                                   & 26                                   & 22                                   & 3                                    & 44                                   & 50                                   & 55                                   & 21                                   & 31                                   & 0                                    & 1                                    & 6                                    & 18                                  \\\\\n",
       "\t 4c07d11d-f709-851d-e053-ca3ca8c0ca7f & 243                                  & 20                                   & 11                                   & 33                                   & 3                                    & 27                                   & 27                                   & 72                                   & 60                                   & 16                                   & 1                                    & 3                                    & 2                                    & 17                                  \\\\\n",
       "\t 4c07d11e-1237-851d-e053-ca3ca8c0ca7f & 319                                  & 22                                   & 26                                   & 47                                   & 6                                    & 46                                   & 50                                   & 79                                   & 60                                   & 30                                   & 6                                    & 1                                    & 6                                    & 20                                  \\\\\n",
       "\\end{tabular}\n"
      ],
      "text/markdown": [
       "\n",
       "| GUID | populationTotal | young | old | priSch | poorHealth | disability | unemploy | lowSkill | farming | rent | education | engLang | newRes | travelTime |\n",
       "|---|---|---|---|---|---|---|---|---|---|---|---|---|---|---|\n",
       "| 4c07d11e-11d3-851d-e053-ca3ca8c0ca7f | 395                                  | 37                                   | 14                                   | 70                                   | 6                                    | 51                                   | 53                                   | 87                                   | 59                                   | 14                                   | 1                                    | 1                                    | 4                                    | 33                                   |\n",
       "| 4c07d11e-123a-851d-e053-ca3ca8c0ca7f | 344                                  | 32                                   | 22                                   | 37                                   | 3                                    | 49                                   | 47                                   | 61                                   | 38                                   | 25                                   | 1                                    | 1                                    | 7                                    | 17                                   |\n",
       "| 4c07d11e-14b1-851d-e053-ca3ca8c0ca7f | 405                                  | 45                                   |  8                                   | 74                                   | 5                                    | 52                                   | 79                                   | 62                                   |  7                                   | 89                                   | 3                                    | 8                                    | 5                                    | 25                                   |\n",
       "| 4c07d11e-14b2-851d-e053-ca3ca8c0ca7f | 276                                  | 13                                   | 26                                   | 22                                   | 3                                    | 44                                   | 50                                   | 55                                   | 21                                   | 31                                   | 0                                    | 1                                    | 6                                    | 18                                   |\n",
       "| 4c07d11d-f709-851d-e053-ca3ca8c0ca7f | 243                                  | 20                                   | 11                                   | 33                                   | 3                                    | 27                                   | 27                                   | 72                                   | 60                                   | 16                                   | 1                                    | 3                                    | 2                                    | 17                                   |\n",
       "| 4c07d11e-1237-851d-e053-ca3ca8c0ca7f | 319                                  | 22                                   | 26                                   | 47                                   | 6                                    | 46                                   | 50                                   | 79                                   | 60                                   | 30                                   | 6                                    | 1                                    | 6                                    | 20                                   |\n",
       "\n"
      ],
      "text/plain": [
       "  GUID                                 populationTotal young old priSch\n",
       "1 4c07d11e-11d3-851d-e053-ca3ca8c0ca7f 395             37    14  70    \n",
       "2 4c07d11e-123a-851d-e053-ca3ca8c0ca7f 344             32    22  37    \n",
       "3 4c07d11e-14b1-851d-e053-ca3ca8c0ca7f 405             45     8  74    \n",
       "4 4c07d11e-14b2-851d-e053-ca3ca8c0ca7f 276             13    26  22    \n",
       "5 4c07d11d-f709-851d-e053-ca3ca8c0ca7f 243             20    11  33    \n",
       "6 4c07d11e-1237-851d-e053-ca3ca8c0ca7f 319             22    26  47    \n",
       "  poorHealth disability unemploy lowSkill farming rent education engLang newRes\n",
       "1 6          51         53       87       59      14   1         1       4     \n",
       "2 3          49         47       61       38      25   1         1       7     \n",
       "3 5          52         79       62        7      89   3         8       5     \n",
       "4 3          44         50       55       21      31   0         1       6     \n",
       "5 3          27         27       72       60      16   1         3       2     \n",
       "6 6          46         50       79       60      30   6         1       6     \n",
       "  travelTime\n",
       "1 33        \n",
       "2 17        \n",
       "3 25        \n",
       "4 18        \n",
       "5 17        \n",
       "6 20        "
      ]
     },
     "metadata": {},
     "output_type": "display_data"
    }
   ],
   "source": [
    "#PERSONS DATA\n",
    "\n",
    "#POPULATION TOTAL\n",
    "populationTotalData <- smallAreaCSOData[, 'T1_1AGETT', drop = FALSE]\n",
    "names(populationTotalData)[1] <- 'populationTotal'\n",
    "\n",
    "#AGE - YOUNG \n",
    "ageYoungVariables <- c(\n",
    "    'T1_1AGE0T', #Age 0 - Total\n",
    "    'T1_1AGE1T', #Age 1 - Total\n",
    "    'T1_1AGE2T', #Age 2 - Total\n",
    "    'T1_1AGE3T', #Age 3 - Total\n",
    "    'T1_1AGE4T', #Age 4 - Total\n",
    "    'T1_1AGE5T'  #Age 5 - Total\n",
    ")\n",
    "\n",
    "ageYoungData <- smallAreaCSOData[,ageYoungVariables, drop = FALSE]\n",
    "ageYoungData$young <- apply(ageYoungData,1,sum)\n",
    "ageYoungData <- select(ageYoungData, 'young')\n",
    "\n",
    "#AGE - OLD \n",
    "ageOldVariables <- c(\n",
    "    #'T1_1AGE65_69T', #Age 65 - 69 - Total - Scottish Flood Disadvantage uses over 75\n",
    "    #'T1_1AGE70_74T', #Age 70 - 74 - Total - Scottish Flood Disadvantage uses over 75\n",
    "    'T1_1AGE75_79T', #Age 75 - 79 - Total\n",
    "    'T1_1AGE80_84T', #Age 80 - 84 - Total\n",
    "    'T1_1AGEGE_85T'  #Age 85 and over - Total\n",
    ")\n",
    "ageOldData <- smallAreaCSOData[, ageOldVariables, drop = FALSE]\n",
    "ageOldData$old <- apply(ageOldData,1,sum)\n",
    "ageOldData <- select(ageOldData, 'old')\n",
    "\n",
    "#PRIMARY SCHOOL AGE\n",
    "primarySchoolAgeVariables <- c(\n",
    "    'T1_1AGE4T',  #Age 4 - Total\n",
    "    'T1_1AGE5T',  #Age 5 - Total\n",
    "    'T1_1AGE6T',  #Age 6 - Total\n",
    "    'T1_1AGE7T',  #Age 7 - Total\n",
    "    'T1_1AGE8T',  #Age 8 - Total\n",
    "    'T1_1AGE9T',  #Age 9 - Total\n",
    "    'T1_1AGE10T', #Age 10 - Total\n",
    "    'T1_1AGE11T', #Age 11 - Total\n",
    "    'T1_1AGE12T'  #Age 12 - Total\n",
    ")\n",
    "\n",
    "primarySchoolAgeData <- smallAreaCSOData[, primarySchoolAgeVariables, drop = FALSE]\n",
    "primarySchoolAgeData$priSch <- apply(primarySchoolAgeData,1,sum)\n",
    "primarySchoolAgeData <- select(primarySchoolAgeData, 'priSch')\n",
    "\n",
    "\n",
    "#HEALTH -  BAD HEALTH (Choice of: Very good, Good, Fair, Bad, Very bad, and Not stated) \n",
    "healthVariables <- c(\n",
    "    'T12_3_BT', #Bad - Total\n",
    "    'T12_3_VBT' #Very bad - Total\n",
    ")\n",
    "healthData <- smallAreaCSOData[, healthVariables, drop = FALSE]\n",
    "healthData$poorHealth <- apply(healthData,1,sum)\n",
    "healthData <- select(healthData, 'poorHealth')\n",
    "\n",
    "#DISABILITY \n",
    "disabilitiesData <- smallAreaCSOData[, 'T12_1_T', drop = FALSE] \n",
    "disabilitiesData$disability <- apply(disabilitiesData,1,sum)\n",
    "disabilitiesData <- select(disabilitiesData, 'disability')\n",
    "\n",
    "#UNEMPLOYMENT \n",
    "unemploymentVariables <- c(\n",
    "    'T8_1_LFFJT',   #Looking for first regular job - Total\n",
    "    'T8_1_ULGUPJT', #Unemployed having lost or given up previous job - Total\n",
    "    'T8_1_UTWSDT',  #Unable to work due to permanent sickness or disability - Total - MAY CORRELATE WITH HEALTH TOO MUCH\n",
    "    'T8_1_LAHFT'    #Looking after home/family - Total - NOT SURE ABOUT THIS ONE\n",
    ")\n",
    "\n",
    "unemploymentData <- smallAreaCSOData[, unemploymentVariables, drop = FALSE]\n",
    "unemploymentData$unemploy <- apply(unemploymentData,1,sum)\n",
    "unemploymentData <- select(unemploymentData, 'unemploy')\n",
    "\n",
    "#LOW SKILLED EMPLOYMENT\n",
    "lowSkilledEmploymentVariables <- c(\n",
    "    'T9_2_PE', #E Manual skilled (No. of persons)\n",
    "    'T9_2_PF', #F Semi-skilled (No. of persons)\n",
    "    'T9_2_PG'  #G Unskilled (No. of persons)\n",
    ")\n",
    "\n",
    "lowSkilledEmploymentData <- smallAreaCSOData[, lowSkilledEmploymentVariables, drop = FALSE]\n",
    "lowSkilledEmploymentData$lowSkill <- apply(lowSkilledEmploymentData,1,sum)\n",
    "lowSkilledEmploymentData <- select(lowSkilledEmploymentData, 'lowSkill')\n",
    "\n",
    "#FARMERS\n",
    "farmingEmploymentVariables <- c(\n",
    "    'T9_2_PI', #I Farmers (No. of persons)\n",
    "    'T9_2_PJ'  #J Agricultural workers (No. of persons)\n",
    ")\n",
    "\n",
    "farmingEmploymentData <- smallAreaCSOData[, farmingEmploymentVariables, drop = FALSE]\n",
    "farmingEmploymentData$farming<- apply(farmingEmploymentData,1,sum)\n",
    "farmingEmploymentData <- select(farmingEmploymentData, 'farming')\n",
    "\n",
    "\n",
    "#TENURE - Permanent private households by type of occupancy \n",
    "rentVariables <- c(\n",
    "    'T6_3_RPLP',  #Rented from private landlord (No. of persons) \n",
    "    'T6_3_RLAP',  #Rented from Local Authority (No. of persons)\n",
    "    'T6_3_RVCHBP' #Rented from voluntary/co-operative housing body (No. of persons)\n",
    ")\n",
    "\n",
    "rentData <- smallAreaCSOData[, rentVariables, drop = FALSE]\n",
    "rentData$rent <- apply(rentData,1,sum)\n",
    "rentData <- select(rentData, 'rent')\n",
    "\n",
    "#EDUCATION \n",
    "educationVariables <- c(\n",
    "    'T10_4_NFT' #No formal education - Total\n",
    "#     'T10_4_PT'   #Primary education - Total\n",
    ")\n",
    "\n",
    "educationData <- smallAreaCSOData[, educationVariables, drop = FALSE]\n",
    "educationData$education <- apply(educationData,1,sum)\n",
    "educationData <- select(educationData, 'education')\n",
    "\n",
    "#ENGLISH ABILITY - Speakers of foreign languages by ability to speak English\n",
    "englishVariables <- c(\n",
    "    'T2_6NW', #Not well\n",
    "    'T2_6NAA' #Not at all\n",
    ")\n",
    "\n",
    "englishData <- smallAreaCSOData[, englishVariables, drop = FALSE] \n",
    "englishData$engLang <- apply(englishData,1,sum)\n",
    "englishData <- select(englishData, 'engLang')\n",
    "\n",
    "#NEW RESIDENTS - Usually resident population aged 1 year and over by usual residence 1 year before Census Day\n",
    "newResidentsVariables <- c(\n",
    "    'T2_3EI', #Elsewhere in Ireland\n",
    "    'T2_3OI'  #Outside Ireland\n",
    ")\n",
    "\n",
    "newResidentsData <- smallAreaCSOData[, newResidentsVariables, drop = FALSE] \n",
    "newResidentsData$newRes <- apply(newResidentsData,1,sum)\n",
    "newResidentsData <- select(newResidentsData, 'newRes')\n",
    "\n",
    "#TRAVEL TIME - Population aged 5 years and over by journey time to work, school or college \n",
    "travelTimeVariables <- c(\n",
    "    'T11_3_D5', #hour - under 1 1/2 hours\n",
    "    'T11_3_D6'  #1 1/2 hours and over\n",
    ")\n",
    "\n",
    "travelTimeData <- smallAreaCSOData[, travelTimeVariables, drop = FALSE] \n",
    "travelTimeData$travelTime <- apply(travelTimeData,1,sum)\n",
    "travelTimeData <- select(travelTimeData, 'travelTime')\n",
    "\n",
    "#combine all the data into one table\n",
    "personsData <- cbind(smallAreaID,\n",
    "                     populationTotalData,\n",
    "                     ageYoungData,\n",
    "                     ageOldData,\n",
    "                     primarySchoolAgeData,\n",
    "                     healthData,\n",
    "                     disabilitiesData,\n",
    "                     unemploymentData,\n",
    "                     lowSkilledEmploymentData,\n",
    "                     farmingEmploymentData,\n",
    "                     rentData,\n",
    "                     educationData,\n",
    "                     englishData,\n",
    "                     newResidentsData,\n",
    "                     travelTimeData\n",
    "                    )\n",
    "\n",
    "#get the number of columns in the data\n",
    "personsDataColLength = ncol(personsData)\n",
    "\n",
    "head(personsData)\n",
    "\n",
    "#output the data as a csv\n",
    "write.csv(personsData, \"../1_InputData/1a_CensusData/persons/personsSmallAreaRawData2016.csv\", row.names = FALSE)"
   ]
  },
  {
   "cell_type": "markdown",
   "metadata": {},
   "source": [
    "### Household Level Data\n",
    "\n",
    "We then get the household level data and combine the variables together to create indicators:"
   ]
  },
  {
   "cell_type": "code",
   "execution_count": 6,
   "metadata": {},
   "outputs": [
    {
     "data": {
      "text/html": [
       "<table>\n",
       "<thead><tr><th scope=col>GUID</th><th scope=col>householdsTotal</th><th scope=col>noHeating</th><th scope=col>yearBuilt</th><th scope=col>mobHome</th><th scope=col>oneParent</th><th scope=col>onePerson</th><th scope=col>noCar</th><th scope=col>noInternet</th><th scope=col>priWater</th></tr></thead>\n",
       "<tbody>\n",
       "\t<tr><td>4c07d11e-11d3-851d-e053-ca3ca8c0ca7f</td><td>129                                 </td><td>1                                   </td><td>27                                  </td><td>1                                   </td><td>14                                  </td><td>23                                  </td><td>5                                   </td><td>23                                  </td><td>113                                 </td></tr>\n",
       "\t<tr><td>4c07d11e-123a-851d-e053-ca3ca8c0ca7f</td><td>114                                 </td><td>2                                   </td><td>22                                  </td><td>0                                   </td><td> 6                                  </td><td>19                                  </td><td>7                                   </td><td>23                                  </td><td> 85                                 </td></tr>\n",
       "\t<tr><td>4c07d11e-14b1-851d-e053-ca3ca8c0ca7f</td><td>139                                 </td><td>0                                   </td><td>10                                  </td><td>1                                   </td><td>22                                  </td><td>20                                  </td><td>7                                   </td><td>16                                  </td><td> 10                                 </td></tr>\n",
       "\t<tr><td>4c07d11e-14b2-851d-e053-ca3ca8c0ca7f</td><td>103                                 </td><td>0                                   </td><td>19                                  </td><td>0                                   </td><td> 6                                  </td><td>20                                  </td><td>1                                   </td><td>15                                  </td><td> 42                                 </td></tr>\n",
       "\t<tr><td>4c07d11d-f709-851d-e053-ca3ca8c0ca7f</td><td> 83                                 </td><td>2                                   </td><td>21                                  </td><td>0                                   </td><td> 9                                  </td><td>20                                  </td><td>1                                   </td><td>21                                  </td><td> 61                                 </td></tr>\n",
       "\t<tr><td>4c07d11e-1237-851d-e053-ca3ca8c0ca7f</td><td>114                                 </td><td>1                                   </td><td>32                                  </td><td>0                                   </td><td> 8                                  </td><td>23                                  </td><td>3                                   </td><td>27                                  </td><td> 29                                 </td></tr>\n",
       "</tbody>\n",
       "</table>\n"
      ],
      "text/latex": [
       "\\begin{tabular}{r|llllllllll}\n",
       " GUID & householdsTotal & noHeating & yearBuilt & mobHome & oneParent & onePerson & noCar & noInternet & priWater\\\\\n",
       "\\hline\n",
       "\t 4c07d11e-11d3-851d-e053-ca3ca8c0ca7f & 129                                  & 1                                    & 27                                   & 1                                    & 14                                   & 23                                   & 5                                    & 23                                   & 113                                 \\\\\n",
       "\t 4c07d11e-123a-851d-e053-ca3ca8c0ca7f & 114                                  & 2                                    & 22                                   & 0                                    &  6                                   & 19                                   & 7                                    & 23                                   &  85                                 \\\\\n",
       "\t 4c07d11e-14b1-851d-e053-ca3ca8c0ca7f & 139                                  & 0                                    & 10                                   & 1                                    & 22                                   & 20                                   & 7                                    & 16                                   &  10                                 \\\\\n",
       "\t 4c07d11e-14b2-851d-e053-ca3ca8c0ca7f & 103                                  & 0                                    & 19                                   & 0                                    &  6                                   & 20                                   & 1                                    & 15                                   &  42                                 \\\\\n",
       "\t 4c07d11d-f709-851d-e053-ca3ca8c0ca7f &  83                                  & 2                                    & 21                                   & 0                                    &  9                                   & 20                                   & 1                                    & 21                                   &  61                                 \\\\\n",
       "\t 4c07d11e-1237-851d-e053-ca3ca8c0ca7f & 114                                  & 1                                    & 32                                   & 0                                    &  8                                   & 23                                   & 3                                    & 27                                   &  29                                 \\\\\n",
       "\\end{tabular}\n"
      ],
      "text/markdown": [
       "\n",
       "| GUID | householdsTotal | noHeating | yearBuilt | mobHome | oneParent | onePerson | noCar | noInternet | priWater |\n",
       "|---|---|---|---|---|---|---|---|---|---|\n",
       "| 4c07d11e-11d3-851d-e053-ca3ca8c0ca7f | 129                                  | 1                                    | 27                                   | 1                                    | 14                                   | 23                                   | 5                                    | 23                                   | 113                                  |\n",
       "| 4c07d11e-123a-851d-e053-ca3ca8c0ca7f | 114                                  | 2                                    | 22                                   | 0                                    |  6                                   | 19                                   | 7                                    | 23                                   |  85                                  |\n",
       "| 4c07d11e-14b1-851d-e053-ca3ca8c0ca7f | 139                                  | 0                                    | 10                                   | 1                                    | 22                                   | 20                                   | 7                                    | 16                                   |  10                                  |\n",
       "| 4c07d11e-14b2-851d-e053-ca3ca8c0ca7f | 103                                  | 0                                    | 19                                   | 0                                    |  6                                   | 20                                   | 1                                    | 15                                   |  42                                  |\n",
       "| 4c07d11d-f709-851d-e053-ca3ca8c0ca7f |  83                                  | 2                                    | 21                                   | 0                                    |  9                                   | 20                                   | 1                                    | 21                                   |  61                                  |\n",
       "| 4c07d11e-1237-851d-e053-ca3ca8c0ca7f | 114                                  | 1                                    | 32                                   | 0                                    |  8                                   | 23                                   | 3                                    | 27                                   |  29                                  |\n",
       "\n"
      ],
      "text/plain": [
       "  GUID                                 householdsTotal noHeating yearBuilt\n",
       "1 4c07d11e-11d3-851d-e053-ca3ca8c0ca7f 129             1         27       \n",
       "2 4c07d11e-123a-851d-e053-ca3ca8c0ca7f 114             2         22       \n",
       "3 4c07d11e-14b1-851d-e053-ca3ca8c0ca7f 139             0         10       \n",
       "4 4c07d11e-14b2-851d-e053-ca3ca8c0ca7f 103             0         19       \n",
       "5 4c07d11d-f709-851d-e053-ca3ca8c0ca7f  83             2         21       \n",
       "6 4c07d11e-1237-851d-e053-ca3ca8c0ca7f 114             1         32       \n",
       "  mobHome oneParent onePerson noCar noInternet priWater\n",
       "1 1       14        23        5     23         113     \n",
       "2 0        6        19        7     23          85     \n",
       "3 1       22        20        7     16          10     \n",
       "4 0        6        20        1     15          42     \n",
       "5 0        9        20        1     21          61     \n",
       "6 0        8        23        3     27          29     "
      ]
     },
     "metadata": {},
     "output_type": "display_data"
    }
   ],
   "source": [
    "#HOUSEHOLD DATA\n",
    "\n",
    "#HOUSEHOLDS TOTAL\n",
    "householdsTotalData <- smallAreaCSOData[, 'T5_1T_H', drop = FALSE] #Total households (No. of households)\n",
    "names(householdsTotalData)[1] <- 'householdsTotal'\n",
    "\n",
    "\n",
    "#NO HEATING - Permanent private households by central heating - Households\n",
    "noHeatingData <- smallAreaCSOData[, 'T6_5_NCH', drop = FALSE]  #No central heating\n",
    "noHeatingData$noHeating <- apply(noHeatingData,1,sum)\n",
    "noHeatingData <- select(noHeatingData, 'noHeating')\n",
    "\n",
    "#YEAR PROPERTY BUILT - Permanent private households by year built (Pre 1919, 1919-1945, 1946-1960, 1961-1970, \n",
    "#1971-1980, 1981-1990, 1991-2000, 2001-2010, 2011 or Later, Not stated)\n",
    "\n",
    "yearBuiltVariables <- c(\n",
    "    'T6_2_PRE19H', #Pre 1919 (No. of households)\n",
    "    'T6_2_19_45H'  #1919 - 1945 (No. of households)\n",
    ")\n",
    "\n",
    "yearBuiltData <- smallAreaCSOData[, yearBuiltVariables, drop = FALSE]\n",
    "yearBuiltData$yearBuilt <- apply(yearBuiltData,1,sum)\n",
    "yearBuiltData <- select(yearBuiltData, 'yearBuilt')\n",
    "\n",
    "\n",
    "#CARAVAN/MOBILE HOME (House/Bungalow, Flat/Apartment Bed-Sit, Caravan/Mobile home, Not stated)\n",
    "mobileHomeData <- smallAreaCSOData[, 'T6_1_CM_H', drop = FALSE] # #Caravan/Mobile home (No. of households)\n",
    "mobileHomeData$mobHome <- apply(mobileHomeData,1,sum)\n",
    "mobileHomeData <- select(mobileHomeData, 'mobHome')\n",
    "\n",
    "\n",
    "#ONE PARENT HOUSEHOLDS\n",
    "oneParentVariables <- c(\n",
    "    'T5_1OPFC_H', #One parent family (father) with  children households (No. of households)\n",
    "    'T5_1OPMC_H', #One parent family (mother) and children households (No. of households)\n",
    "    'T5_1OPFCO_H',#One parent family (father) with children and others households (No. of households)\n",
    "    'T5_1OPMCO_H' #One parent family (mother) with children and others households (No. of households)\n",
    ")\n",
    "\n",
    "oneParentData <- smallAreaCSOData[, oneParentVariables, drop = FALSE]\n",
    "oneParentData$oneParent <- apply(oneParentData,1,sum)\n",
    "oneParentData <- select(oneParentData, 'oneParent')\n",
    "\n",
    "#ONE PERSON HOUSEHOLDS\n",
    "onePersonData <- smallAreaCSOData[, 'T5_1OP_H', drop = FALSE] #One person households (No. of households)\n",
    "onePersonData$onePerson <- apply(onePersonData,1,sum)\n",
    "onePersonData <- select(onePersonData, 'onePerson')\n",
    "\n",
    "#CAR OWNERSHIP\n",
    "noCarData <- smallAreaCSOData[, 'T15_1_NC', drop = FALSE] #No motor car (No. of households)\n",
    "noCarData$noCar <- apply(noCarData,1,sum)\n",
    "noCarData <- select(noCarData, 'noCar')\n",
    "\n",
    "\n",
    "#NO INTERNET\n",
    "noInternetData <- smallAreaCSOData[, 'T15_3_N', drop = FALSE] #No internet (No. of households)\n",
    "noInternetData$noInternet <- apply(noInternetData,1,sum)\n",
    "noInternetData <- select(noInternetData, 'noInternet')\n",
    "\n",
    "#WATER SUPPLY - private water supplies at risk of disease due to reduced quality control - *BIG ASSUMPTION*\n",
    "waterSupplyVariables <- c(\n",
    "    'T6_6_GSP', #Group scheme with private source\n",
    "    'T6_6_OP'   #Other private source\n",
    ")\n",
    "\n",
    "waterSupplyData <- smallAreaCSOData[, waterSupplyVariables, drop = FALSE]\n",
    "waterSupplyData$priWater <- apply(waterSupplyData,1,sum)\n",
    "waterSupplyData <- select(waterSupplyData, 'priWater')\n",
    "\n",
    "\n",
    "#combine all the data into one table\n",
    "householdData <- cbind(smallAreaID,\n",
    "                       householdsTotalData,\n",
    "                       noHeatingData,\n",
    "                       yearBuiltData,\n",
    "                       mobileHomeData,\n",
    "                       oneParentData,\n",
    "                       onePersonData,\n",
    "                       noCarData,\n",
    "                       noInternetData,\n",
    "                       waterSupplyData\n",
    "                    )\n",
    "#inspect the table\n",
    "head(householdData)\n",
    "\n",
    "#get the number of columns in the data\n",
    "householdDataColLength = ncol(householdData)\n",
    "\n",
    "#output the data as a csv\n",
    "write.csv(householdData, \"../1_InputData/1a_CensusData/household/householdSmallAreaRawData2016.csv\", row.names = FALSE)"
   ]
  },
  {
   "cell_type": "markdown",
   "metadata": {},
   "source": [
    "## Percentages\n",
    "\n",
    "The raw data is not suitable for use within the vulnerabiltiy assessment. It needs to be normalised based on the number of people/households within each small area. Therefore, the data is converted to percentages based on the total persons/households within each small area."
   ]
  },
  {
   "cell_type": "markdown",
   "metadata": {},
   "source": [
    "### Persons Percentages"
   ]
  },
  {
   "cell_type": "code",
   "execution_count": 7,
   "metadata": {},
   "outputs": [],
   "source": [
    "#PERSONS DATA\n",
    "\n",
    "#Copy the data\n",
    "personsDataPct <- personsData\n",
    "\n",
    "#Calculate the percentages for each of the relevant columns - starting at the 4th column\n",
    "for(col in names(personsDataPct)[3:personsDataColLength]) {\n",
    "  personsDataPct[paste0(col, \"_pct\")] = (personsDataPct[col] / personsDataPct$populationTotal)*100\n",
    "}\n",
    "\n",
    "#remove the original data to leave only the percentages\n",
    "personsDataPct <- personsDataPct[-c(2:personsDataColLength)]\n",
    "# head(personsDataPct)\n",
    "\n",
    "#output the data as a csv\n",
    "write.csv(personsDataPct, \"../1_InputData/1a_CensusData/persons/personsSmallAreaPctData2016.csv\", row.names = FALSE)"
   ]
  },
  {
   "cell_type": "markdown",
   "metadata": {},
   "source": [
    "### Household Percentages"
   ]
  },
  {
   "cell_type": "code",
   "execution_count": 8,
   "metadata": {},
   "outputs": [],
   "source": [
    "#HOUSEHOLD DATA\n",
    "\n",
    "#Copy the data\n",
    "householdDataPct <- householdData\n",
    "\n",
    "#Calculate the percentages for each of the relevant columns - starting at the 4th column\n",
    "for(col in names(householdDataPct)[3:ncol(householdDataPct)]) {\n",
    "  householdDataPct[paste0(col, \"_pct\")] = (householdDataPct[col] / householdDataPct$householdsTotal)*100\n",
    "}\n",
    "\n",
    "#remove the original data to leave only the percentages\n",
    "householdDataPct <- householdDataPct[-c(2:householdDataColLength)]\n",
    "# head(householdDataPct)\n",
    "\n",
    "#output the data as a csv\n",
    "write.csv(householdDataPct, \"../1_InputData/1a_CensusData/household/householdSmallAreaNormalisedData2016.csv\", row.names = FALSE)"
   ]
  },
  {
   "cell_type": "markdown",
   "metadata": {},
   "source": [
    "## Z-Scores\n",
    "\n",
    "The raw data is not suitable for use within the vulnerabiltiy assessment. It needs to be standardised. Therefore, the data is converted to z-scores. Z-scores are:\n",
    "\n",
    ">\"A statistical measurement of a score's relationship to the mean (average value) in a group of scores. A Z-score of 0 means the score is the same as the mean (average value). A Z-score can be positive or negative, indicating whether it is above or below the mean and by how many standard deviations. Z-score standardisation represents the deviation of a raw score from its mean in standard deviation units.\" (Kazmierczak et al., 2015)"
   ]
  },
  {
   "cell_type": "markdown",
   "metadata": {},
   "source": [
    "## Persons Z-scores"
   ]
  },
  {
   "cell_type": "code",
   "execution_count": 9,
   "metadata": {},
   "outputs": [],
   "source": [
    "#PERSONS DATA\n",
    "\n",
    "#Copy the data\n",
    "personsDataZ <- personsDataPct\n",
    "\n",
    "#Calculate the z scores for each of the relevant columns - starting at the 2nd column\n",
    "for(col in names(personsDataZ)[2:ncol(personsDataZ)]) {\n",
    "  personsDataZ[paste0(col, \"_Z\")] = scale(personsDataZ[col])\n",
    "}\n",
    "\n",
    "\n",
    "#remove the original data to leave only the z scores\n",
    "personsDataZ <- personsDataZ[-c(2:ncol(personsDataPct))]\n",
    "# summary(personsDataZ)\n",
    "# head(personsDataZ)\n",
    "\n",
    "# #output the data as a csv\n",
    "write.csv(personsDataZ, \"../1_InputData/1a_CensusData/persons/personsSmallAreaZData2016.csv\", row.names = FALSE)"
   ]
  },
  {
   "cell_type": "markdown",
   "metadata": {},
   "source": [
    "## Households Z-scores"
   ]
  },
  {
   "cell_type": "code",
   "execution_count": 10,
   "metadata": {},
   "outputs": [],
   "source": [
    "#HOUSEHOLD DATA\n",
    "\n",
    "#Copy the data\n",
    "householdDataZ <- householdDataPct\n",
    "\n",
    "#Calculate the z scores for each of the relevant columns - starting at the 3rd column\n",
    "for(col in names(householdDataZ)[2:ncol(householdDataZ)]) {\n",
    "  householdDataZ[paste0(col, \"_Z\")] = scale(householdDataZ[col])\n",
    "}\n",
    "\n",
    "#remove the original data to leave only the z scores\n",
    "householdDataZ <- householdDataZ[-c(2:ncol(householdDataPct))]\n",
    "# summary(householdDataZ)\n",
    "# head(householdDataZ)\n",
    "\n",
    "#output the data as a csv\n",
    "write.csv(householdDataZ, \"../1_InputData/1a_CensusData/household/householdSmallAreaZData2016.csv\", row.names = FALSE)"
   ]
  },
  {
   "cell_type": "markdown",
   "metadata": {},
   "source": [
    "## Combine Data\n",
    "\n",
    "The persons level and household level data are then combined into a single CSV:"
   ]
  },
  {
   "cell_type": "code",
   "execution_count": 11,
   "metadata": {},
   "outputs": [],
   "source": [
    "#Combine the RAW persons and household data\n",
    "personsHouseholdDataCombined <- cbind(personsData,\n",
    "                                       householdData[2:ncol(householdData)])\n",
    "\n",
    "#output the data as a csv\n",
    "write.csv(personsHouseholdDataCombined, \"../1_InputData/1a_CensusData/censusData.csv\", row.names = FALSE)\n",
    "\n",
    "#Combine the % persons and household data\n",
    "personsHouseholdPctDataCombined <- cbind(personsDataPct,\n",
    "                                       householdDataPct[2:ncol(householdDataPct)])\n",
    "\n",
    "#output the data as a csv\n",
    "write.csv(personsHouseholdPctDataCombined, \"../1_InputData/1a_CensusData/censusDataPercent.csv\", row.names = FALSE)\n",
    "\n",
    "\n",
    "#Combine the Z-score persons and household data\n",
    "personsHouseholdZDataCombined <- cbind(personsDataZ,\n",
    "                                       householdDataZ[2:ncol(householdDataZ)])\n",
    "\n",
    "names(personsHouseholdZDataCombined) <- gsub(\"_pct_Z\",\"\",names(personsHouseholdZDataCombined))\n",
    "\n",
    "#output the data as a csv\n",
    "write.csv(personsHouseholdZDataCombined, \"../1_InputData/1a_CensusData/censusDataZ.csv\", row.names = FALSE)\n"
   ]
  },
  {
   "cell_type": "markdown",
   "metadata": {},
   "source": [
    "**END**"
   ]
  }
 ],
 "metadata": {
  "kernelspec": {
   "display_name": "R",
   "language": "R",
   "name": "ir"
  },
  "language_info": {
   "codemirror_mode": "r",
   "file_extension": ".r",
   "mimetype": "text/x-r-source",
   "name": "R",
   "pygments_lexer": "r",
   "version": "3.6.1"
  },
  "toc": {
   "base_numbering": 1,
   "nav_menu": {},
   "number_sections": true,
   "sideBar": true,
   "skip_h1_title": false,
   "title_cell": "Table of Contents",
   "title_sidebar": "Contents",
   "toc_cell": false,
   "toc_position": {},
   "toc_section_display": true,
   "toc_window_display": false
  }
 },
 "nbformat": 4,
 "nbformat_minor": 2
}
