{
 "cells": [
  {
   "cell_type": "markdown",
   "metadata": {},
   "source": [
    "# Vulnerability Ireland \n",
    "\n",
    "Population density is an important indicator to consider in a vulnerability assessment. The population density can be derived for each of the 'Small Area' units of the 2016 Census.\n",
    "\n",
    "This script gets the population in each 'Small Area' in 2016 and the area of the 'Small Area' (in km<sup>2</sup>). These are then used to calculate the population density. "
   ]
  },
  {
   "cell_type": "markdown",
   "metadata": {},
   "source": [
    "## Setup\n",
    "\n",
    "Load the R libraries:"
   ]
  },
  {
   "cell_type": "code",
   "execution_count": 1,
   "metadata": {},
   "outputs": [
    {
     "name": "stderr",
     "output_type": "stream",
     "text": [
      "Warning message:\n",
      "\"package 'sf' was built under R version 3.6.3\"Linking to GEOS 3.9.0, GDAL 3.2.1, PROJ 7.2.1\n",
      "Loading required package: sp\n",
      "\n",
      "Attaching package: 'raster'\n",
      "\n",
      "The following object is masked from 'package:dplyr':\n",
      "\n",
      "    select\n",
      "\n",
      "The following object is masked from 'package:tidyr':\n",
      "\n",
      "    extract\n",
      "\n",
      "rgdal: version: 1.4-4, (SVN revision 833)\n",
      " Geospatial Data Abstraction Library extensions to R successfully loaded\n",
      " Loaded GDAL runtime: GDAL 2.2.3, released 2017/11/20\n",
      " Path to GDAL shared files: C:/Users/james/anaconda3/envs/ISVEHI/Lib/R/library/rgdal/gdal\n",
      " GDAL binary built with GEOS: TRUE \n",
      " Loaded PROJ.4 runtime: Rel. 4.9.3, 15 August 2016, [PJ_VERSION: 493]\n",
      " Path to PROJ.4 shared files: C:/Users/james/anaconda3/envs/ISVEHI/Lib/R/library/rgdal/proj\n",
      " Linking to sp version: 1.3-1 \n"
     ]
    }
   ],
   "source": [
    "# load the libraries\n",
    "library(tidyverse)\n",
    "library(sf)\n",
    "library(raster)\n",
    "library(dplyr)\n",
    "library(rgdal)"
   ]
  },
  {
   "cell_type": "markdown",
   "metadata": {},
   "source": [
    "Set a temporary and export directory:"
   ]
  },
  {
   "cell_type": "code",
   "execution_count": 2,
   "metadata": {},
   "outputs": [],
   "source": [
    "#set a directory for export \n",
    "exportDirectory <- \"C:/GitHub/Climate-Ireland/Vulnerability/1_InputData/1b_PopulationDensity\""
   ]
  },
  {
   "cell_type": "markdown",
   "metadata": {},
   "source": [
    "## 2.0 Population Data\n",
    "\n",
    "The population data is derived from the 2016 census which can be imported directly from the CSO website (this is the default) or using a local version:"
   ]
  },
  {
   "cell_type": "code",
   "execution_count": 3,
   "metadata": {},
   "outputs": [],
   "source": [
    "#get the data from the CSO website\n",
    "smallAreaCSOData <- read.csv(\"https://www.cso.ie/en/media/csoie/census/census2016/census2016boundaryfiles/SAPS2016_SA2017.csv\",  header=TRUE, sep=\",\")\n",
    "\n",
    "#get the data locally\n",
    "# smallAreaCSOData <- read.csv(\"../../CSOData/SAPS2016_SA2017.csv\", header=TRUE, sep=\",\", stringsAsFactors = FALSE)\n",
    "\n",
    "#get unique ID and population data only\n",
    "smallAreaPopulation <- smallAreaCSOData[, c('GUID', 'T1_1AGETT'), drop = FALSE]\n",
    "names(smallAreaPopulation)[2] <- 'populationTotal'\n",
    "\n",
    "# head(smallAreaPopulation)"
   ]
  },
  {
   "cell_type": "markdown",
   "metadata": {},
   "source": [
    "## 3.0 'Small Areas' Spatial Data\n",
    "\n",
    "The spatial data for the Small Areas used within the 2016 census can be imported directly from the CSO website (this is the default) or using a local version. The area of each Small Area has already been calculated and is available in the 'Shape_Are' attribute of the data - this data is converted from m<sup>2</sup> to km<sup>2</sup>. "
   ]
  },
  {
   "cell_type": "code",
   "execution_count": 14,
   "metadata": {},
   "outputs": [],
   "source": [
    "#download the small area shapefile\n",
    "download.file(\"http://data-osi.opendata.arcgis.com/datasets/c85e610da1464178a2cd84a88020c8e2_3.zip\", \n",
    "              destfile = \"./downloads/SmallAreasShp.zip\" , mode='wb')\n",
    "unzip(\"./downloads/SmallAreasShp.zip\", exdir = \"./downloads\")\n",
    "\n",
    "#read the data - Small_Areas_Ungeneralised__OSi_National_Statistical_Boundaries__2015\n",
    "smallAreaShp <- st_read('./downloads/d9876b9b-96eb-4f04-afec-300c5d0a276c2020328-1-wq0rek.ua66c.shp')\n",
    "\n",
    "#use a local copy\n",
    "# smallAreaShp <- st_read(\"D:/Spatial_Data/CSO/Census_2016_Small_Areas/Shapefiles/Extracted/Small_Areas_Ungeneralised__OSi_National_Statistical_Boundaries__2015/Small_Areas_Ungeneralised__OSi_National_Statistical_Boundaries__2015.shp\")\n",
    "\n",
    "#convert to 'SpatialPolygonsDataFrame'\n",
    "smallAreaShp <- as(smallAreaShp, \"Spatial\")\n",
    "# head(smallAreaShp, n = 5)\n",
    "\n",
    "#convert to irenet95 / irish transverse mercator\n",
    "projIreNet95 <- \"+proj=tmerc +lat_0=53.5 +lon_0=-8 +k=0.99982 +x_0=600000 +y_0=750000 +ellps=GRS80 +towgs84=0,0,0,0,0,0,0 +units=m +no_defs\"\n",
    "smallAreaShp <- st_transform(smallAreaShp, projIreNet95)\n",
    "\n",
    "#convert the area from m2 to km2\n",
    "smallAreaShp$Shape__Are <- smallAreaShp$Shape__Are/1000000\n",
    "\n",
    "#get the the unique IDs data and the shape areas only\n",
    "smallAreaShp <- smallAreaShp[, c('GUID', 'SMALL_AREA', 'Shape__Are'), drop = FALSE]\n"
   ]
  },
  {
   "cell_type": "markdown",
   "metadata": {},
   "source": [
    "## 4.0 Combining the data\n",
    "\n",
    "The population data needs to be joined with the area data in order to calculate the density. This is done by matching the commmon filed of the GUID to merge to two datasets together."
   ]
  },
  {
   "cell_type": "code",
   "execution_count": 15,
   "metadata": {},
   "outputs": [],
   "source": [
    "smallAreaShpPop <-  merge(smallAreaShp, smallAreaPopulation, 'GUID')\n",
    "# head(smallAreaShpPop)"
   ]
  },
  {
   "cell_type": "markdown",
   "metadata": {},
   "source": [
    "## 5.0 Population Density\n",
    "\n",
    "The population density can then be calculated and stored as a new field within the dataset. The final data is then exported to a csv for use in later analysis."
   ]
  },
  {
   "cell_type": "code",
   "execution_count": 18,
   "metadata": {},
   "outputs": [
    {
     "name": "stderr",
     "output_type": "stream",
     "text": [
      "ERROR while rich displaying an object: Error in loadNamespace(name): there is no package called 'geojsonio'\n",
      "\n",
      "Traceback:\n",
      "1. FUN(X[[i]], ...)\n",
      "2. tryCatch(withCallingHandlers({\n",
      " .     if (!mime %in% names(repr::mime2repr)) \n",
      " .         stop(\"No repr_* for mimetype \", mime, \" in repr::mime2repr\")\n",
      " .     rpr <- repr::mime2repr[[mime]](obj)\n",
      " .     if (is.null(rpr)) \n",
      " .         return(NULL)\n",
      " .     prepare_content(is.raw(rpr), rpr)\n",
      " . }, error = error_handler), error = outer_handler)\n",
      "3. tryCatchList(expr, classes, parentenv, handlers)\n",
      "4. tryCatchOne(expr, names, parentenv, handlers[[1L]])\n",
      "5. doTryCatch(return(expr), name, parentenv, handler)\n",
      "6. withCallingHandlers({\n",
      " .     if (!mime %in% names(repr::mime2repr)) \n",
      " .         stop(\"No repr_* for mimetype \", mime, \" in repr::mime2repr\")\n",
      " .     rpr <- repr::mime2repr[[mime]](obj)\n",
      " .     if (is.null(rpr)) \n",
      " .         return(NULL)\n",
      " .     prepare_content(is.raw(rpr), rpr)\n",
      " . }, error = error_handler)\n",
      "7. repr::mime2repr[[mime]](obj)\n",
      "8. repr_geojson.sf(obj)\n",
      "9. repr_geojson(geojsonio::geojson_list(obj), ...)\n",
      "10. geojsonio::geojson_list\n",
      "11. getExportedValue(pkg, name)\n",
      "12. asNamespace(ns)\n",
      "13. getNamespace(ns)\n",
      "14. loadNamespace(name)\n",
      "15. withRestarts(stop(cond), retry_loadNamespace = function() NULL)\n",
      "16. withOneRestart(expr, restarts[[1L]])\n",
      "17. doWithOneRestart(return(expr), restart)\n"
     ]
    },
    {
     "data": {
      "text/html": [
       "<table>\n",
       "<thead><tr><th scope=col>GUID</th><th scope=col>SMALL_AREA</th><th scope=col>Shape__Are</th><th scope=col>populationTotal</th><th scope=col>geometry</th><th scope=col>popDensity</th></tr></thead>\n",
       "<tbody>\n",
       "\t<tr><td>4c07d11d-f3af-851d-e053-ca3ca8c0ca7f</td><td>237103001                           </td><td>20.687235                           </td><td>272                                 </td><td>MULTIPOLYGON (((621889.3 74...      </td><td>13.14820                            </td></tr>\n",
       "\t<tr><td>4c07d11d-f3b0-851d-e053-ca3ca8c0ca7f</td><td>237061001                           </td><td>16.337795                           </td><td>362                                 </td><td>MULTIPOLYGON (((621889.3 74...      </td><td>22.15721                            </td></tr>\n",
       "\t<tr><td>4c07d11d-f3b1-851d-e053-ca3ca8c0ca7f</td><td>237025001                           </td><td>15.169654                           </td><td>236                                 </td><td>MULTIPOLYGON (((628126.9 73...      </td><td>15.55738                            </td></tr>\n",
       "\t<tr><td>4c07d11d-f3b2-851d-e053-ca3ca8c0ca7f</td><td>237025003                           </td><td> 6.722791                           </td><td>228                                 </td><td>MULTIPOLYGON (((633200 7418...      </td><td>33.91449                            </td></tr>\n",
       "\t<tr><td>4c07d11d-f3b3-851d-e053-ca3ca8c0ca7f</td><td>107035001                           </td><td>19.751091                           </td><td>332                                 </td><td>MULTIPOLYGON (((632245.4 68...      </td><td>16.80920                            </td></tr>\n",
       "\t<tr><td>4c07d11d-f3b4-851d-e053-ca3ca8c0ca7f</td><td>107041002                           </td><td>12.100627                           </td><td>215                                 </td><td>MULTIPOLYGON (((635589 6868...      </td><td>17.76767                            </td></tr>\n",
       "</tbody>\n",
       "</table>\n"
      ],
      "text/latex": [
       "\\begin{tabular}{r|llllll}\n",
       " GUID & SMALL\\_AREA & Shape\\_\\_Are & populationTotal & geometry & popDensity\\\\\n",
       "\\hline\n",
       "\t 4c07d11d-f3af-851d-e053-ca3ca8c0ca7f & 237103001                            & 20.687235                            & 272                                  & MULTIPOLYGON (((621889.3 74...       & 13.14820                            \\\\\n",
       "\t 4c07d11d-f3b0-851d-e053-ca3ca8c0ca7f & 237061001                            & 16.337795                            & 362                                  & MULTIPOLYGON (((621889.3 74...       & 22.15721                            \\\\\n",
       "\t 4c07d11d-f3b1-851d-e053-ca3ca8c0ca7f & 237025001                            & 15.169654                            & 236                                  & MULTIPOLYGON (((628126.9 73...       & 15.55738                            \\\\\n",
       "\t 4c07d11d-f3b2-851d-e053-ca3ca8c0ca7f & 237025003                            &  6.722791                            & 228                                  & MULTIPOLYGON (((633200 7418...       & 33.91449                            \\\\\n",
       "\t 4c07d11d-f3b3-851d-e053-ca3ca8c0ca7f & 107035001                            & 19.751091                            & 332                                  & MULTIPOLYGON (((632245.4 68...       & 16.80920                            \\\\\n",
       "\t 4c07d11d-f3b4-851d-e053-ca3ca8c0ca7f & 107041002                            & 12.100627                            & 215                                  & MULTIPOLYGON (((635589 6868...       & 17.76767                            \\\\\n",
       "\\end{tabular}\n"
      ],
      "text/markdown": [
       "\n",
       "| GUID | SMALL_AREA | Shape__Are | populationTotal | geometry | popDensity |\n",
       "|---|---|---|---|---|---|\n",
       "| 4c07d11d-f3af-851d-e053-ca3ca8c0ca7f | 237103001                            | 20.687235                            | 272                                  | MULTIPOLYGON (((621889.3 74...       | 13.14820                             |\n",
       "| 4c07d11d-f3b0-851d-e053-ca3ca8c0ca7f | 237061001                            | 16.337795                            | 362                                  | MULTIPOLYGON (((621889.3 74...       | 22.15721                             |\n",
       "| 4c07d11d-f3b1-851d-e053-ca3ca8c0ca7f | 237025001                            | 15.169654                            | 236                                  | MULTIPOLYGON (((628126.9 73...       | 15.55738                             |\n",
       "| 4c07d11d-f3b2-851d-e053-ca3ca8c0ca7f | 237025003                            |  6.722791                            | 228                                  | MULTIPOLYGON (((633200 7418...       | 33.91449                             |\n",
       "| 4c07d11d-f3b3-851d-e053-ca3ca8c0ca7f | 107035001                            | 19.751091                            | 332                                  | MULTIPOLYGON (((632245.4 68...       | 16.80920                             |\n",
       "| 4c07d11d-f3b4-851d-e053-ca3ca8c0ca7f | 107041002                            | 12.100627                            | 215                                  | MULTIPOLYGON (((635589 6868...       | 17.76767                             |\n",
       "\n"
      ],
      "text/plain": [
       "  GUID                                 SMALL_AREA Shape__Are populationTotal\n",
       "1 4c07d11d-f3af-851d-e053-ca3ca8c0ca7f 237103001  20.687235  272            \n",
       "2 4c07d11d-f3b0-851d-e053-ca3ca8c0ca7f 237061001  16.337795  362            \n",
       "3 4c07d11d-f3b1-851d-e053-ca3ca8c0ca7f 237025001  15.169654  236            \n",
       "4 4c07d11d-f3b2-851d-e053-ca3ca8c0ca7f 237025003   6.722791  228            \n",
       "5 4c07d11d-f3b3-851d-e053-ca3ca8c0ca7f 107035001  19.751091  332            \n",
       "6 4c07d11d-f3b4-851d-e053-ca3ca8c0ca7f 107041002  12.100627  215            \n",
       "  geometry                       popDensity\n",
       "1 MULTIPOLYGON (((621889.3 74... 13.14820  \n",
       "2 MULTIPOLYGON (((621889.3 74... 22.15721  \n",
       "3 MULTIPOLYGON (((628126.9 73... 15.55738  \n",
       "4 MULTIPOLYGON (((633200 7418... 33.91449  \n",
       "5 MULTIPOLYGON (((632245.4 68... 16.80920  \n",
       "6 MULTIPOLYGON (((635589 6868... 17.76767  "
      ]
     },
     "metadata": {},
     "output_type": "display_data"
    }
   ],
   "source": [
    "#Population Density Calculation\n",
    "smallAreaShpPop$popDensity <- smallAreaShpPop$populationTotal/smallAreaShpPop$Shape__Are\n",
    "head(smallAreaShpPop)"
   ]
  },
  {
   "cell_type": "code",
   "execution_count": 19,
   "metadata": {},
   "outputs": [],
   "source": [
    "#Scaled Population Density\n",
    "smallAreaShpPop$popDensityZ <- scale(smallAreaShpPop$popDensity)"
   ]
  },
  {
   "cell_type": "markdown",
   "metadata": {},
   "source": [
    "### 5.1 Export"
   ]
  },
  {
   "cell_type": "code",
   "execution_count": 20,
   "metadata": {},
   "outputs": [],
   "source": [
    "#build export path\n",
    "exportPath <- paste(exportDirectory, 'populationDensitySmallArea2016', sep = '/')\n",
    "exportPath <- paste(exportPath, '.csv', sep = '')\n",
    "\n",
    "write.csv(smallAreaShpPop, exportPath, row.names = FALSE)\n"
   ]
  },
  {
   "cell_type": "markdown",
   "metadata": {},
   "source": [
    "**END**"
   ]
  }
 ],
 "metadata": {
  "kernelspec": {
   "display_name": "R",
   "language": "R",
   "name": "ir"
  },
  "language_info": {
   "codemirror_mode": "r",
   "file_extension": ".r",
   "mimetype": "text/x-r-source",
   "name": "R",
   "pygments_lexer": "r",
   "version": "3.6.1"
  },
  "toc": {
   "base_numbering": 1,
   "nav_menu": {},
   "number_sections": true,
   "sideBar": true,
   "skip_h1_title": false,
   "title_cell": "Table of Contents",
   "title_sidebar": "Contents",
   "toc_cell": false,
   "toc_position": {},
   "toc_section_display": true,
   "toc_window_display": false
  }
 },
 "nbformat": 4,
 "nbformat_minor": 2
}
