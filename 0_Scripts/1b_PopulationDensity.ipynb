{
 "cells": [
  {
   "cell_type": "markdown",
   "metadata": {},
   "source": [
    "# Vulnerability Ireland \n",
    "\n",
    "Population density is an important indicator to consider in a vulnerability assessment. The population density can be derived for each of the 'Small Area' units of the 2022 Census.\n",
    "\n",
    "This script gets the population in each 'Small Area' in 2022 and the area of the 'Small Area' (in km<sup>2</sup>). These are then used to calculate the population density. "
   ]
  },
  {
   "cell_type": "markdown",
   "metadata": {},
   "source": [
    "## Setup\n",
    "\n",
    "Load the R libraries:"
   ]
  },
  {
   "cell_type": "code",
   "execution_count": 1,
   "metadata": {},
   "outputs": [
    {
     "name": "stderr",
     "output_type": "stream",
     "text": [
      "── \u001b[1mAttaching core tidyverse packages\u001b[22m ──────────────────────────────────────────────────────────────────────────────────── tidyverse 2.0.0 ──\n",
      "\u001b[32m✔\u001b[39m \u001b[34mdplyr    \u001b[39m 1.1.4     \u001b[32m✔\u001b[39m \u001b[34mreadr    \u001b[39m 2.1.5\n",
      "\u001b[32m✔\u001b[39m \u001b[34mforcats  \u001b[39m 1.0.0     \u001b[32m✔\u001b[39m \u001b[34mstringr  \u001b[39m 1.5.1\n",
      "\u001b[32m✔\u001b[39m \u001b[34mggplot2  \u001b[39m 3.4.4     \u001b[32m✔\u001b[39m \u001b[34mtibble   \u001b[39m 3.2.1\n",
      "\u001b[32m✔\u001b[39m \u001b[34mlubridate\u001b[39m 1.9.3     \u001b[32m✔\u001b[39m \u001b[34mtidyr    \u001b[39m 1.3.1\n",
      "\u001b[32m✔\u001b[39m \u001b[34mpurrr    \u001b[39m 1.0.2     \n",
      "── \u001b[1mConflicts\u001b[22m ────────────────────────────────────────────────────────────────────────────────────────────────────── tidyverse_conflicts() ──\n",
      "\u001b[31m✖\u001b[39m \u001b[34mdplyr\u001b[39m::\u001b[32mfilter()\u001b[39m masks \u001b[34mstats\u001b[39m::filter()\n",
      "\u001b[31m✖\u001b[39m \u001b[34mdplyr\u001b[39m::\u001b[32mlag()\u001b[39m    masks \u001b[34mstats\u001b[39m::lag()\n",
      "\u001b[36mℹ\u001b[39m Use the conflicted package (\u001b[3m\u001b[34m<http://conflicted.r-lib.org/>\u001b[39m\u001b[23m) to force all conflicts to become errors\n",
      "Linking to GEOS 3.12.1, GDAL 3.8.3, PROJ 9.3.1; sf_use_s2() is TRUE\n",
      "\n",
      "Loading required package: sp\n",
      "\n",
      "\n",
      "Attaching package: ‘raster’\n",
      "\n",
      "\n",
      "The following object is masked from ‘package:dplyr’:\n",
      "\n",
      "    select\n",
      "\n",
      "\n",
      "Please note that rgdal will be retired during October 2023,\n",
      "plan transition to sf/stars/terra functions using GDAL and PROJ\n",
      "at your earliest convenience.\n",
      "See https://r-spatial.org/r/2023/05/15/evolution4.html and https://github.com/r-spatial/evolution\n",
      "rgdal: version: 1.6-7, (SVN revision 1203)\n",
      "Geospatial Data Abstraction Library extensions to R successfully loaded\n",
      "Loaded GDAL runtime: GDAL 3.8.3, released 2024/01/04\n",
      "Path to GDAL shared files: \n",
      " GDAL does not use iconv for recoding strings.\n",
      "GDAL binary built with GEOS: TRUE \n",
      "Loaded PROJ runtime: Rel. 9.3.1, December 1st, 2023, [PJ_VERSION: 931]\n",
      "Path to PROJ shared files: /Users/declan/Library/Application Support/proj:/Users/declan/anaconda3/envs/ISVEHI/share/proj\n",
      "PROJ CDN enabled: TRUE\n",
      "Linking to sp version:2.1-2\n",
      "To mute warnings of possible GDAL/OSR exportToProj4() degradation,\n",
      "use options(\"rgdal_show_exportToProj4_warnings\"=\"none\") before loading sp or rgdal.\n",
      "\n"
     ]
    }
   ],
   "source": [
    "# load the libraries\n",
    "library(tidyverse)\n",
    "library(sf)\n",
    "library(raster)\n",
    "library(dplyr)\n",
    "library(rgdal)\n"
   ]
  },
  {
   "cell_type": "markdown",
   "metadata": {},
   "source": [
    "Set a temporary and export directory:"
   ]
  },
  {
   "cell_type": "code",
   "execution_count": 2,
   "metadata": {},
   "outputs": [],
   "source": [
    "#set a directory for export \n",
    "exportDirectory <- \"../1_InputData/1b_PopulationDensity\""
   ]
  },
  {
   "cell_type": "markdown",
   "metadata": {},
   "source": [
    "## 2.0 Population Data\n",
    "\n",
    "The population data is derived from the 2016 census which can be imported directly from the CSO website (this is the default) or using a local version:"
   ]
  },
  {
   "cell_type": "code",
   "execution_count": 3,
   "metadata": {},
   "outputs": [
    {
     "data": {
      "text/html": [
       "<table class=\"dataframe\">\n",
       "<caption>A data.frame: 6 × 2</caption>\n",
       "<thead>\n",
       "\t<tr><th></th><th scope=col>SA_GUID__1</th><th scope=col>populationTotal</th></tr>\n",
       "\t<tr><th></th><th scope=col>&lt;chr&gt;</th><th scope=col>&lt;int&gt;</th></tr>\n",
       "</thead>\n",
       "<tbody>\n",
       "\t<tr><th scope=row>1</th><td>00b00ae4-229d-455d-84f1-d6face4876b1</td><td>376</td></tr>\n",
       "\t<tr><th scope=row>2</th><td>03003797-1fcd-4fcf-8dde-b2188e3fb1db</td><td>310</td></tr>\n",
       "\t<tr><th scope=row>3</th><td>06650182-eeaa-4c6c-847c-f85ddaf5361b</td><td>375</td></tr>\n",
       "\t<tr><th scope=row>4</th><td>08e82f06-46ee-4141-aa07-79a793a12b27</td><td>225</td></tr>\n",
       "\t<tr><th scope=row>5</th><td>0920215b-86d3-4a53-9fc0-6008ae5c91f9</td><td>344</td></tr>\n",
       "\t<tr><th scope=row>6</th><td>0daa02c9-4e30-45fe-90d7-6a1d3e7af2cb</td><td>164</td></tr>\n",
       "</tbody>\n",
       "</table>\n"
      ],
      "text/latex": [
       "A data.frame: 6 × 2\n",
       "\\begin{tabular}{r|ll}\n",
       "  & SA\\_GUID\\_\\_1 & populationTotal\\\\\n",
       "  & <chr> & <int>\\\\\n",
       "\\hline\n",
       "\t1 & 00b00ae4-229d-455d-84f1-d6face4876b1 & 376\\\\\n",
       "\t2 & 03003797-1fcd-4fcf-8dde-b2188e3fb1db & 310\\\\\n",
       "\t3 & 06650182-eeaa-4c6c-847c-f85ddaf5361b & 375\\\\\n",
       "\t4 & 08e82f06-46ee-4141-aa07-79a793a12b27 & 225\\\\\n",
       "\t5 & 0920215b-86d3-4a53-9fc0-6008ae5c91f9 & 344\\\\\n",
       "\t6 & 0daa02c9-4e30-45fe-90d7-6a1d3e7af2cb & 164\\\\\n",
       "\\end{tabular}\n"
      ],
      "text/markdown": [
       "\n",
       "A data.frame: 6 × 2\n",
       "\n",
       "| <!--/--> | SA_GUID__1 &lt;chr&gt; | populationTotal &lt;int&gt; |\n",
       "|---|---|---|\n",
       "| 1 | 00b00ae4-229d-455d-84f1-d6face4876b1 | 376 |\n",
       "| 2 | 03003797-1fcd-4fcf-8dde-b2188e3fb1db | 310 |\n",
       "| 3 | 06650182-eeaa-4c6c-847c-f85ddaf5361b | 375 |\n",
       "| 4 | 08e82f06-46ee-4141-aa07-79a793a12b27 | 225 |\n",
       "| 5 | 0920215b-86d3-4a53-9fc0-6008ae5c91f9 | 344 |\n",
       "| 6 | 0daa02c9-4e30-45fe-90d7-6a1d3e7af2cb | 164 |\n",
       "\n"
      ],
      "text/plain": [
       "  SA_GUID__1                           populationTotal\n",
       "1 00b00ae4-229d-455d-84f1-d6face4876b1 376            \n",
       "2 03003797-1fcd-4fcf-8dde-b2188e3fb1db 310            \n",
       "3 06650182-eeaa-4c6c-847c-f85ddaf5361b 375            \n",
       "4 08e82f06-46ee-4141-aa07-79a793a12b27 225            \n",
       "5 0920215b-86d3-4a53-9fc0-6008ae5c91f9 344            \n",
       "6 0daa02c9-4e30-45fe-90d7-6a1d3e7af2cb 164            "
      ]
     },
     "metadata": {},
     "output_type": "display_data"
    }
   ],
   "source": [
    "#get the data from the CSO website\n",
    "#smallAreaCSOData <- read.csv(\"https://www.cso.ie/en/media/csoie/census/census2022/SAPS_2022_Small_Area_270923.csv\",  header=TRUE, sep=\",\")\n",
    "\n",
    "#get the data locally\n",
    "smallAreaCSOData <- read.csv('/Users/declan/Projects/REACHOUT/walther/ISVEHI-main_2024/1_InputData/CSOData/SAPS_2022_Small_Area_270923.csv', header=TRUE, sep=\",\", stringsAsFactors = FALSE)\n",
    "colnames(smallAreaCSOData)[colnames(smallAreaCSOData) == \"GUID\"] =\"SA_GUID__1\"\n",
    "\n",
    "#get unique ID and population data only\n",
    "smallAreaPopulation <- smallAreaCSOData[, c('SA_GUID__1', 'T1_1AGETT'), drop = FALSE]\n",
    "names(smallAreaPopulation)[2] <- 'populationTotal'\n",
    "\n",
    "head(smallAreaPopulation)"
   ]
  },
  {
   "cell_type": "markdown",
   "metadata": {},
   "source": [
    "## 3.0 'Small Areas' Spatial Data\n",
    "\n",
    "The spatial data for the Small Areas used within the 2016 census can be imported directly from the CSO website (this is the default) or using a local version. The area of each Small Area has already been calculated and is available in the 'Shape_Are' attribute of the data - this data is converted from m<sup>2</sup> to km<sup>2</sup>. "
   ]
  },
  {
   "cell_type": "code",
   "execution_count": 4,
   "metadata": {},
   "outputs": [
    {
     "name": "stdout",
     "output_type": "stream",
     "text": [
      "Reading layer `SMALL_AREA_2022' from data source \n",
      "  `/Users/declan/Projects/REACHOUT/walther/ISVEHI-main_2024/0_Scripts/downloads/SMALL_AREA_2022.shp' \n",
      "  using driver `ESRI Shapefile'\n",
      "Simple feature collection with 18919 features and 28 fields\n",
      "Geometry type: MULTIPOLYGON\n",
      "Dimension:     XY\n",
      "Bounding box:  xmin: 417471.5 ymin: 519663.7 xmax: 734481.1 ymax: 966896.3\n",
      "Projected CRS: IRENET95 / Irish Transverse Mercator\n"
     ]
    },
    {
     "data": {
      "text/html": [
       "<table class=\"dataframe\">\n",
       "<caption>A data.frame: 6 × 3</caption>\n",
       "<thead>\n",
       "\t<tr><th></th><th scope=col>SA_GUID__1</th><th scope=col>SA_PUB2022</th><th scope=col>SHAPE_Area</th></tr>\n",
       "\t<tr><th></th><th scope=col>&lt;chr&gt;</th><th scope=col>&lt;chr&gt;</th><th scope=col>&lt;dbl&gt;</th></tr>\n",
       "</thead>\n",
       "<tbody>\n",
       "\t<tr><th scope=row>1</th><td>4c07d11e-0a4f-851d-e053-ca3ca8c0ca7f</td><td>017010016</td><td>0.2049442</td></tr>\n",
       "\t<tr><th scope=row>2</th><td>4c07d11e-0a3a-851d-e053-ca3ca8c0ca7f</td><td>017010046</td><td>0.2882254</td></tr>\n",
       "\t<tr><th scope=row>3</th><td>4c07d11e-0a4e-851d-e053-ca3ca8c0ca7f</td><td>017010037</td><td>0.2084269</td></tr>\n",
       "\t<tr><th scope=row>4</th><td>4c07d11e-0a25-851d-e053-ca3ca8c0ca7f</td><td>017010005</td><td>0.3487986</td></tr>\n",
       "\t<tr><th scope=row>5</th><td>4c07d11e-0a57-851d-e053-ca3ca8c0ca7f</td><td>017010036</td><td>0.4293491</td></tr>\n",
       "\t<tr><th scope=row>6</th><td>4c07d11e-2df2-851d-e053-ca3ca8c0ca7f</td><td>017010009</td><td>0.0592992</td></tr>\n",
       "</tbody>\n",
       "</table>\n"
      ],
      "text/latex": [
       "A data.frame: 6 × 3\n",
       "\\begin{tabular}{r|lll}\n",
       "  & SA\\_GUID\\_\\_1 & SA\\_PUB2022 & SHAPE\\_Area\\\\\n",
       "  & <chr> & <chr> & <dbl>\\\\\n",
       "\\hline\n",
       "\t1 & 4c07d11e-0a4f-851d-e053-ca3ca8c0ca7f & 017010016 & 0.2049442\\\\\n",
       "\t2 & 4c07d11e-0a3a-851d-e053-ca3ca8c0ca7f & 017010046 & 0.2882254\\\\\n",
       "\t3 & 4c07d11e-0a4e-851d-e053-ca3ca8c0ca7f & 017010037 & 0.2084269\\\\\n",
       "\t4 & 4c07d11e-0a25-851d-e053-ca3ca8c0ca7f & 017010005 & 0.3487986\\\\\n",
       "\t5 & 4c07d11e-0a57-851d-e053-ca3ca8c0ca7f & 017010036 & 0.4293491\\\\\n",
       "\t6 & 4c07d11e-2df2-851d-e053-ca3ca8c0ca7f & 017010009 & 0.0592992\\\\\n",
       "\\end{tabular}\n"
      ],
      "text/markdown": [
       "\n",
       "A data.frame: 6 × 3\n",
       "\n",
       "| <!--/--> | SA_GUID__1 &lt;chr&gt; | SA_PUB2022 &lt;chr&gt; | SHAPE_Area &lt;dbl&gt; |\n",
       "|---|---|---|---|\n",
       "| 1 | 4c07d11e-0a4f-851d-e053-ca3ca8c0ca7f | 017010016 | 0.2049442 |\n",
       "| 2 | 4c07d11e-0a3a-851d-e053-ca3ca8c0ca7f | 017010046 | 0.2882254 |\n",
       "| 3 | 4c07d11e-0a4e-851d-e053-ca3ca8c0ca7f | 017010037 | 0.2084269 |\n",
       "| 4 | 4c07d11e-0a25-851d-e053-ca3ca8c0ca7f | 017010005 | 0.3487986 |\n",
       "| 5 | 4c07d11e-0a57-851d-e053-ca3ca8c0ca7f | 017010036 | 0.4293491 |\n",
       "| 6 | 4c07d11e-2df2-851d-e053-ca3ca8c0ca7f | 017010009 | 0.0592992 |\n",
       "\n"
      ],
      "text/plain": [
       "  SA_GUID__1                           SA_PUB2022 SHAPE_Area\n",
       "1 4c07d11e-0a4f-851d-e053-ca3ca8c0ca7f 017010016  0.2049442 \n",
       "2 4c07d11e-0a3a-851d-e053-ca3ca8c0ca7f 017010046  0.2882254 \n",
       "3 4c07d11e-0a4e-851d-e053-ca3ca8c0ca7f 017010037  0.2084269 \n",
       "4 4c07d11e-0a25-851d-e053-ca3ca8c0ca7f 017010005  0.3487986 \n",
       "5 4c07d11e-0a57-851d-e053-ca3ca8c0ca7f 017010036  0.4293491 \n",
       "6 4c07d11e-2df2-851d-e053-ca3ca8c0ca7f 017010009  0.0592992 "
      ]
     },
     "metadata": {},
     "output_type": "display_data"
    }
   ],
   "source": [
    "#download the small area shapefile\n",
    "#download.file(\"http://data-osi.opendata.arcgis.com/datasets/70a33cbb8bd7406da0d571be28624721_0-.zip\", \n",
    "#              destfile = \"./downloads/CSO_Small_Areas_-_National_Statistical_Boundaries_-_2022_-_Ungeneralised.zip\" , mode='wb')\n",
    "unzip(\"./downloads/CSO_Small_Areas_-_National_Statistical_Boundaries_-_2022_-_Ungeneralised.zip\", exdir = \"./downloads\")\n",
    "\n",
    "\n",
    "#read the data - Small_Areas_Ungeneralised__OSi_National_Statistical_Boundaries__2022\n",
    "smallAreaShp <- st_read('./downloads/SMALL_AREA_2022.shp')\n",
    "\n",
    "#convert to irenet95 / irish transverse mercator\n",
    "projIreNet95 <- \"+proj=tmerc +lat_0=53.5 +lon_0=-8 +k=0.99982 +x_0=600000 +y_0=750000 +ellps=GRS80 +towgs84=0,0,0,0,0,0,0 +units=m +no_defs\"\n",
    "smallAreaShp <- st_transform(smallAreaShp, projIreNet95)\n",
    "\n",
    "\n",
    "#convert the area from m2 to km2\n",
    "smallAreaShp$SHAPE_Area <- smallAreaShp$SHAPE_Area/1000000\n",
    "\n",
    "\n",
    "#get the the unique IDs data and the shape areas only\n",
    "smallAreaShp <- as.data.frame(smallAreaShp[, c('SA_GUID__1', 'SA_PUB2022', 'SHAPE_Area'), drop = TRUE])\n",
    "\n",
    "head(smallAreaShp)\n"
   ]
  },
  {
   "cell_type": "markdown",
   "metadata": {},
   "source": [
    "## 4.0 Combining the data\n",
    "\n",
    "The population data needs to be joined with the area data in order to calculate the density. This is done by matching the commmon filed of the GUID to merge to two datasets together."
   ]
  },
  {
   "cell_type": "code",
   "execution_count": 5,
   "metadata": {},
   "outputs": [
    {
     "data": {
      "text/html": [
       "<table class=\"dataframe\">\n",
       "<caption>A data.frame: 6 × 4</caption>\n",
       "<thead>\n",
       "\t<tr><th></th><th scope=col>SA_GUID__1</th><th scope=col>SA_PUB2022</th><th scope=col>SHAPE_Area</th><th scope=col>populationTotal</th></tr>\n",
       "\t<tr><th></th><th scope=col>&lt;chr&gt;</th><th scope=col>&lt;chr&gt;</th><th scope=col>&lt;dbl&gt;</th><th scope=col>&lt;int&gt;</th></tr>\n",
       "</thead>\n",
       "<tbody>\n",
       "\t<tr><th scope=row>1</th><td>000581a3-4ebd-4a74-b5f8-0bd78cd7ede5</td><td>087055007/01</td><td>0.07844937</td><td>260</td></tr>\n",
       "\t<tr><th scope=row>2</th><td>00275248-3d78-4fdb-8e5c-8ff1f76aebea</td><td>187017004/01</td><td>0.19468908</td><td>183</td></tr>\n",
       "\t<tr><th scope=row>3</th><td>002b83e4-5cce-414a-8570-871a50ae0964</td><td>107029004/01</td><td>0.19134093</td><td>263</td></tr>\n",
       "\t<tr><th scope=row>4</th><td>005eec3f-d746-480f-ae2c-bc6f1151548d</td><td>267081006/02</td><td>0.05736744</td><td>241</td></tr>\n",
       "\t<tr><th scope=row>5</th><td>00b00ae4-229d-455d-84f1-d6face4876b1</td><td>147002002/02</td><td>0.11281036</td><td>376</td></tr>\n",
       "\t<tr><th scope=row>6</th><td>00df2b78-66c8-4009-89e0-0e14e15e4208</td><td>087067015/03</td><td>0.19108284</td><td>297</td></tr>\n",
       "</tbody>\n",
       "</table>\n"
      ],
      "text/latex": [
       "A data.frame: 6 × 4\n",
       "\\begin{tabular}{r|llll}\n",
       "  & SA\\_GUID\\_\\_1 & SA\\_PUB2022 & SHAPE\\_Area & populationTotal\\\\\n",
       "  & <chr> & <chr> & <dbl> & <int>\\\\\n",
       "\\hline\n",
       "\t1 & 000581a3-4ebd-4a74-b5f8-0bd78cd7ede5 & 087055007/01 & 0.07844937 & 260\\\\\n",
       "\t2 & 00275248-3d78-4fdb-8e5c-8ff1f76aebea & 187017004/01 & 0.19468908 & 183\\\\\n",
       "\t3 & 002b83e4-5cce-414a-8570-871a50ae0964 & 107029004/01 & 0.19134093 & 263\\\\\n",
       "\t4 & 005eec3f-d746-480f-ae2c-bc6f1151548d & 267081006/02 & 0.05736744 & 241\\\\\n",
       "\t5 & 00b00ae4-229d-455d-84f1-d6face4876b1 & 147002002/02 & 0.11281036 & 376\\\\\n",
       "\t6 & 00df2b78-66c8-4009-89e0-0e14e15e4208 & 087067015/03 & 0.19108284 & 297\\\\\n",
       "\\end{tabular}\n"
      ],
      "text/markdown": [
       "\n",
       "A data.frame: 6 × 4\n",
       "\n",
       "| <!--/--> | SA_GUID__1 &lt;chr&gt; | SA_PUB2022 &lt;chr&gt; | SHAPE_Area &lt;dbl&gt; | populationTotal &lt;int&gt; |\n",
       "|---|---|---|---|---|\n",
       "| 1 | 000581a3-4ebd-4a74-b5f8-0bd78cd7ede5 | 087055007/01 | 0.07844937 | 260 |\n",
       "| 2 | 00275248-3d78-4fdb-8e5c-8ff1f76aebea | 187017004/01 | 0.19468908 | 183 |\n",
       "| 3 | 002b83e4-5cce-414a-8570-871a50ae0964 | 107029004/01 | 0.19134093 | 263 |\n",
       "| 4 | 005eec3f-d746-480f-ae2c-bc6f1151548d | 267081006/02 | 0.05736744 | 241 |\n",
       "| 5 | 00b00ae4-229d-455d-84f1-d6face4876b1 | 147002002/02 | 0.11281036 | 376 |\n",
       "| 6 | 00df2b78-66c8-4009-89e0-0e14e15e4208 | 087067015/03 | 0.19108284 | 297 |\n",
       "\n"
      ],
      "text/plain": [
       "  SA_GUID__1                           SA_PUB2022   SHAPE_Area populationTotal\n",
       "1 000581a3-4ebd-4a74-b5f8-0bd78cd7ede5 087055007/01 0.07844937 260            \n",
       "2 00275248-3d78-4fdb-8e5c-8ff1f76aebea 187017004/01 0.19468908 183            \n",
       "3 002b83e4-5cce-414a-8570-871a50ae0964 107029004/01 0.19134093 263            \n",
       "4 005eec3f-d746-480f-ae2c-bc6f1151548d 267081006/02 0.05736744 241            \n",
       "5 00b00ae4-229d-455d-84f1-d6face4876b1 147002002/02 0.11281036 376            \n",
       "6 00df2b78-66c8-4009-89e0-0e14e15e4208 087067015/03 0.19108284 297            "
      ]
     },
     "metadata": {},
     "output_type": "display_data"
    }
   ],
   "source": [
    "smallAreaShpPop <-  merge(smallAreaShp, smallAreaPopulation, by= \"SA_GUID__1\")\n",
    "head(smallAreaShpPop)"
   ]
  },
  {
   "cell_type": "markdown",
   "metadata": {},
   "source": [
    "## 5.0 Population Density\n",
    "\n",
    "The population density can then be calculated and stored as a new field within the dataset. The final data is then exported to a csv for use in later analysis."
   ]
  },
  {
   "cell_type": "code",
   "execution_count": 6,
   "metadata": {},
   "outputs": [
    {
     "data": {
      "text/html": [
       "<table class=\"dataframe\">\n",
       "<caption>A data.frame: 6 × 5</caption>\n",
       "<thead>\n",
       "\t<tr><th></th><th scope=col>SA_GUID__1</th><th scope=col>SA_PUB2022</th><th scope=col>SHAPE_Area</th><th scope=col>populationTotal</th><th scope=col>popDensity</th></tr>\n",
       "\t<tr><th></th><th scope=col>&lt;chr&gt;</th><th scope=col>&lt;chr&gt;</th><th scope=col>&lt;dbl&gt;</th><th scope=col>&lt;int&gt;</th><th scope=col>&lt;dbl&gt;</th></tr>\n",
       "</thead>\n",
       "<tbody>\n",
       "\t<tr><th scope=row>1</th><td>000581a3-4ebd-4a74-b5f8-0bd78cd7ede5</td><td>087055007/01</td><td>0.07844937</td><td>260</td><td>3314.2393</td></tr>\n",
       "\t<tr><th scope=row>2</th><td>00275248-3d78-4fdb-8e5c-8ff1f76aebea</td><td>187017004/01</td><td>0.19468908</td><td>183</td><td> 939.9603</td></tr>\n",
       "\t<tr><th scope=row>3</th><td>002b83e4-5cce-414a-8570-871a50ae0964</td><td>107029004/01</td><td>0.19134093</td><td>263</td><td>1374.5099</td></tr>\n",
       "\t<tr><th scope=row>4</th><td>005eec3f-d746-480f-ae2c-bc6f1151548d</td><td>267081006/02</td><td>0.05736744</td><td>241</td><td>4200.9895</td></tr>\n",
       "\t<tr><th scope=row>5</th><td>00b00ae4-229d-455d-84f1-d6face4876b1</td><td>147002002/02</td><td>0.11281036</td><td>376</td><td>3333.0272</td></tr>\n",
       "\t<tr><th scope=row>6</th><td>00df2b78-66c8-4009-89e0-0e14e15e4208</td><td>087067015/03</td><td>0.19108284</td><td>297</td><td>1554.2997</td></tr>\n",
       "</tbody>\n",
       "</table>\n"
      ],
      "text/latex": [
       "A data.frame: 6 × 5\n",
       "\\begin{tabular}{r|lllll}\n",
       "  & SA\\_GUID\\_\\_1 & SA\\_PUB2022 & SHAPE\\_Area & populationTotal & popDensity\\\\\n",
       "  & <chr> & <chr> & <dbl> & <int> & <dbl>\\\\\n",
       "\\hline\n",
       "\t1 & 000581a3-4ebd-4a74-b5f8-0bd78cd7ede5 & 087055007/01 & 0.07844937 & 260 & 3314.2393\\\\\n",
       "\t2 & 00275248-3d78-4fdb-8e5c-8ff1f76aebea & 187017004/01 & 0.19468908 & 183 &  939.9603\\\\\n",
       "\t3 & 002b83e4-5cce-414a-8570-871a50ae0964 & 107029004/01 & 0.19134093 & 263 & 1374.5099\\\\\n",
       "\t4 & 005eec3f-d746-480f-ae2c-bc6f1151548d & 267081006/02 & 0.05736744 & 241 & 4200.9895\\\\\n",
       "\t5 & 00b00ae4-229d-455d-84f1-d6face4876b1 & 147002002/02 & 0.11281036 & 376 & 3333.0272\\\\\n",
       "\t6 & 00df2b78-66c8-4009-89e0-0e14e15e4208 & 087067015/03 & 0.19108284 & 297 & 1554.2997\\\\\n",
       "\\end{tabular}\n"
      ],
      "text/markdown": [
       "\n",
       "A data.frame: 6 × 5\n",
       "\n",
       "| <!--/--> | SA_GUID__1 &lt;chr&gt; | SA_PUB2022 &lt;chr&gt; | SHAPE_Area &lt;dbl&gt; | populationTotal &lt;int&gt; | popDensity &lt;dbl&gt; |\n",
       "|---|---|---|---|---|---|\n",
       "| 1 | 000581a3-4ebd-4a74-b5f8-0bd78cd7ede5 | 087055007/01 | 0.07844937 | 260 | 3314.2393 |\n",
       "| 2 | 00275248-3d78-4fdb-8e5c-8ff1f76aebea | 187017004/01 | 0.19468908 | 183 |  939.9603 |\n",
       "| 3 | 002b83e4-5cce-414a-8570-871a50ae0964 | 107029004/01 | 0.19134093 | 263 | 1374.5099 |\n",
       "| 4 | 005eec3f-d746-480f-ae2c-bc6f1151548d | 267081006/02 | 0.05736744 | 241 | 4200.9895 |\n",
       "| 5 | 00b00ae4-229d-455d-84f1-d6face4876b1 | 147002002/02 | 0.11281036 | 376 | 3333.0272 |\n",
       "| 6 | 00df2b78-66c8-4009-89e0-0e14e15e4208 | 087067015/03 | 0.19108284 | 297 | 1554.2997 |\n",
       "\n"
      ],
      "text/plain": [
       "  SA_GUID__1                           SA_PUB2022   SHAPE_Area populationTotal\n",
       "1 000581a3-4ebd-4a74-b5f8-0bd78cd7ede5 087055007/01 0.07844937 260            \n",
       "2 00275248-3d78-4fdb-8e5c-8ff1f76aebea 187017004/01 0.19468908 183            \n",
       "3 002b83e4-5cce-414a-8570-871a50ae0964 107029004/01 0.19134093 263            \n",
       "4 005eec3f-d746-480f-ae2c-bc6f1151548d 267081006/02 0.05736744 241            \n",
       "5 00b00ae4-229d-455d-84f1-d6face4876b1 147002002/02 0.11281036 376            \n",
       "6 00df2b78-66c8-4009-89e0-0e14e15e4208 087067015/03 0.19108284 297            \n",
       "  popDensity\n",
       "1 3314.2393 \n",
       "2  939.9603 \n",
       "3 1374.5099 \n",
       "4 4200.9895 \n",
       "5 3333.0272 \n",
       "6 1554.2997 "
      ]
     },
     "metadata": {},
     "output_type": "display_data"
    }
   ],
   "source": [
    "#Population Density Calculation\n",
    "smallAreaShpPop$popDensity <- smallAreaShpPop$populationTotal/smallAreaShpPop$SHAPE_Area\n",
    "head(smallAreaShpPop)"
   ]
  },
  {
   "cell_type": "code",
   "execution_count": 7,
   "metadata": {},
   "outputs": [
    {
     "data": {
      "text/html": [
       "<table class=\"dataframe\">\n",
       "<caption>A data.frame: 6 × 6</caption>\n",
       "<thead>\n",
       "\t<tr><th></th><th scope=col>SA_GUID__1</th><th scope=col>SA_PUB2022</th><th scope=col>SHAPE_Area</th><th scope=col>populationTotal</th><th scope=col>popDensity</th><th scope=col>popDensityZ</th></tr>\n",
       "\t<tr><th></th><th scope=col>&lt;chr&gt;</th><th scope=col>&lt;chr&gt;</th><th scope=col>&lt;dbl&gt;</th><th scope=col>&lt;int&gt;</th><th scope=col>&lt;dbl&gt;</th><th scope=col>&lt;dbl[,1]&gt;</th></tr>\n",
       "</thead>\n",
       "<tbody>\n",
       "\t<tr><th scope=row>1</th><td>000581a3-4ebd-4a74-b5f8-0bd78cd7ede5</td><td>087055007/01</td><td>0.07844937</td><td>260</td><td>3314.2393</td><td>-0.08544822</td></tr>\n",
       "\t<tr><th scope=row>2</th><td>00275248-3d78-4fdb-8e5c-8ff1f76aebea</td><td>187017004/01</td><td>0.19468908</td><td>183</td><td> 939.9603</td><td>-0.48468431</td></tr>\n",
       "\t<tr><th scope=row>3</th><td>002b83e4-5cce-414a-8570-871a50ae0964</td><td>107029004/01</td><td>0.19134093</td><td>263</td><td>1374.5099</td><td>-0.41161460</td></tr>\n",
       "\t<tr><th scope=row>4</th><td>005eec3f-d746-480f-ae2c-bc6f1151548d</td><td>267081006/02</td><td>0.05736744</td><td>241</td><td>4200.9895</td><td> 0.06365922</td></tr>\n",
       "\t<tr><th scope=row>5</th><td>00b00ae4-229d-455d-84f1-d6face4876b1</td><td>147002002/02</td><td>0.11281036</td><td>376</td><td>3333.0272</td><td>-0.08228903</td></tr>\n",
       "\t<tr><th scope=row>6</th><td>00df2b78-66c8-4009-89e0-0e14e15e4208</td><td>087067015/03</td><td>0.19108284</td><td>297</td><td>1554.2997</td><td>-0.38138286</td></tr>\n",
       "</tbody>\n",
       "</table>\n"
      ],
      "text/latex": [
       "A data.frame: 6 × 6\n",
       "\\begin{tabular}{r|llllll}\n",
       "  & SA\\_GUID\\_\\_1 & SA\\_PUB2022 & SHAPE\\_Area & populationTotal & popDensity & popDensityZ\\\\\n",
       "  & <chr> & <chr> & <dbl> & <int> & <dbl> & <dbl{[},1{]}>\\\\\n",
       "\\hline\n",
       "\t1 & 000581a3-4ebd-4a74-b5f8-0bd78cd7ede5 & 087055007/01 & 0.07844937 & 260 & 3314.2393 & -0.08544822\\\\\n",
       "\t2 & 00275248-3d78-4fdb-8e5c-8ff1f76aebea & 187017004/01 & 0.19468908 & 183 &  939.9603 & -0.48468431\\\\\n",
       "\t3 & 002b83e4-5cce-414a-8570-871a50ae0964 & 107029004/01 & 0.19134093 & 263 & 1374.5099 & -0.41161460\\\\\n",
       "\t4 & 005eec3f-d746-480f-ae2c-bc6f1151548d & 267081006/02 & 0.05736744 & 241 & 4200.9895 &  0.06365922\\\\\n",
       "\t5 & 00b00ae4-229d-455d-84f1-d6face4876b1 & 147002002/02 & 0.11281036 & 376 & 3333.0272 & -0.08228903\\\\\n",
       "\t6 & 00df2b78-66c8-4009-89e0-0e14e15e4208 & 087067015/03 & 0.19108284 & 297 & 1554.2997 & -0.38138286\\\\\n",
       "\\end{tabular}\n"
      ],
      "text/markdown": [
       "\n",
       "A data.frame: 6 × 6\n",
       "\n",
       "| <!--/--> | SA_GUID__1 &lt;chr&gt; | SA_PUB2022 &lt;chr&gt; | SHAPE_Area &lt;dbl&gt; | populationTotal &lt;int&gt; | popDensity &lt;dbl&gt; | popDensityZ &lt;dbl[,1]&gt; |\n",
       "|---|---|---|---|---|---|---|\n",
       "| 1 | 000581a3-4ebd-4a74-b5f8-0bd78cd7ede5 | 087055007/01 | 0.07844937 | 260 | 3314.2393 | -0.08544822 |\n",
       "| 2 | 00275248-3d78-4fdb-8e5c-8ff1f76aebea | 187017004/01 | 0.19468908 | 183 |  939.9603 | -0.48468431 |\n",
       "| 3 | 002b83e4-5cce-414a-8570-871a50ae0964 | 107029004/01 | 0.19134093 | 263 | 1374.5099 | -0.41161460 |\n",
       "| 4 | 005eec3f-d746-480f-ae2c-bc6f1151548d | 267081006/02 | 0.05736744 | 241 | 4200.9895 |  0.06365922 |\n",
       "| 5 | 00b00ae4-229d-455d-84f1-d6face4876b1 | 147002002/02 | 0.11281036 | 376 | 3333.0272 | -0.08228903 |\n",
       "| 6 | 00df2b78-66c8-4009-89e0-0e14e15e4208 | 087067015/03 | 0.19108284 | 297 | 1554.2997 | -0.38138286 |\n",
       "\n"
      ],
      "text/plain": [
       "  SA_GUID__1                           SA_PUB2022   SHAPE_Area populationTotal\n",
       "1 000581a3-4ebd-4a74-b5f8-0bd78cd7ede5 087055007/01 0.07844937 260            \n",
       "2 00275248-3d78-4fdb-8e5c-8ff1f76aebea 187017004/01 0.19468908 183            \n",
       "3 002b83e4-5cce-414a-8570-871a50ae0964 107029004/01 0.19134093 263            \n",
       "4 005eec3f-d746-480f-ae2c-bc6f1151548d 267081006/02 0.05736744 241            \n",
       "5 00b00ae4-229d-455d-84f1-d6face4876b1 147002002/02 0.11281036 376            \n",
       "6 00df2b78-66c8-4009-89e0-0e14e15e4208 087067015/03 0.19108284 297            \n",
       "  popDensity popDensityZ\n",
       "1 3314.2393  -0.08544822\n",
       "2  939.9603  -0.48468431\n",
       "3 1374.5099  -0.41161460\n",
       "4 4200.9895   0.06365922\n",
       "5 3333.0272  -0.08228903\n",
       "6 1554.2997  -0.38138286"
      ]
     },
     "metadata": {},
     "output_type": "display_data"
    }
   ],
   "source": [
    "#Scaled Population Density\n",
    "smallAreaShpPop$popDensityZ <- scale(smallAreaShpPop$popDensity)\n",
    "head(smallAreaShpPop)"
   ]
  },
  {
   "cell_type": "markdown",
   "metadata": {},
   "source": [
    "### 5.1 Export"
   ]
  },
  {
   "cell_type": "code",
   "execution_count": 8,
   "metadata": {},
   "outputs": [],
   "source": [
    "#build export path\n",
    "exportPath <- paste(exportDirectory, 'populationDensitySmallArea2022', sep = '/')\n",
    "exportPath <- paste(exportPath, '.csv', sep = '')\n",
    "\n",
    "write.csv(smallAreaShpPop, exportPath, row.names = FALSE)\n"
   ]
  },
  {
   "cell_type": "markdown",
   "metadata": {},
   "source": [
    "**END**"
   ]
  },
  {
   "cell_type": "code",
   "execution_count": null,
   "metadata": {},
   "outputs": [],
   "source": []
  }
 ],
 "metadata": {
  "kernelspec": {
   "display_name": "R",
   "language": "R",
   "name": "ir"
  },
  "language_info": {
   "codemirror_mode": "r",
   "file_extension": ".r",
   "mimetype": "text/x-r-source",
   "name": "R",
   "pygments_lexer": "r",
   "version": "4.3.2"
  },
  "toc": {
   "base_numbering": 1,
   "nav_menu": {},
   "number_sections": true,
   "sideBar": true,
   "skip_h1_title": false,
   "title_cell": "Table of Contents",
   "title_sidebar": "Contents",
   "toc_cell": false,
   "toc_position": {},
   "toc_section_display": true,
   "toc_window_display": false
  }
 },
 "nbformat": 4,
 "nbformat_minor": 4
}
