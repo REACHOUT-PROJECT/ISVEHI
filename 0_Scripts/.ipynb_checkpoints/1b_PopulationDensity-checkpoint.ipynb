{
 "cells": [
  {
   "cell_type": "markdown",
   "metadata": {},
   "source": [
    "# Vulnerability Ireland \n",
    "\n",
    "Population density is an important indicator to consider in a vulnerability assessment. The population density can be derived for each of the 'Small Area' units of the 2016 Census.\n",
    "\n",
    "This script gets the population in each 'Small Area' in 2016 and the area of the 'Small Area' (in km<sup>2</sup>). These are then used to calculate the population density. "
   ]
  },
  {
   "cell_type": "markdown",
   "metadata": {},
   "source": [
    "## Setup\n",
    "\n",
    "Load the R libraries:"
   ]
  },
  {
   "cell_type": "code",
   "execution_count": 1,
   "metadata": {},
   "outputs": [
    {
     "name": "stderr",
     "output_type": "stream",
     "text": [
      "Registered S3 methods overwritten by 'ggplot2':\n",
      "  method         from \n",
      "  [.quosures     rlang\n",
      "  c.quosures     rlang\n",
      "  print.quosures rlang\n",
      "Registered S3 method overwritten by 'rvest':\n",
      "  method            from\n",
      "  read_xml.response xml2\n",
      "-- Attaching packages --------------------------------------- tidyverse 1.2.1 --\n",
      "v ggplot2 3.1.1       v purrr   0.3.2  \n",
      "v tibble  2.1.1       v dplyr   0.8.0.1\n",
      "v tidyr   0.8.3       v stringr 1.4.0  \n",
      "v readr   1.3.1       v forcats 0.4.0  \n",
      "-- Conflicts ------------------------------------------ tidyverse_conflicts() --\n",
      "x dplyr::filter() masks stats::filter()\n",
      "x dplyr::lag()    masks stats::lag()\n",
      "Warning message:\n",
      "\"package 'sf' was built under R version 3.6.3\"Linking to GEOS 3.9.0, GDAL 3.2.1, PROJ 7.2.1\n",
      "Loading required package: sp\n",
      "\n",
      "Attaching package: 'raster'\n",
      "\n",
      "The following object is masked from 'package:dplyr':\n",
      "\n",
      "    select\n",
      "\n",
      "The following object is masked from 'package:tidyr':\n",
      "\n",
      "    extract\n",
      "\n",
      "rgdal: version: 1.4-4, (SVN revision 833)\n",
      " Geospatial Data Abstraction Library extensions to R successfully loaded\n",
      " Loaded GDAL runtime: GDAL 2.2.3, released 2017/11/20\n",
      " Path to GDAL shared files: C:/Users/jfitton/AppData/Local/Continuum/anaconda3/envs/ISVEHI/Lib/R/library/rgdal/gdal\n",
      " GDAL binary built with GEOS: TRUE \n",
      " Loaded PROJ.4 runtime: Rel. 4.9.3, 15 August 2016, [PJ_VERSION: 493]\n",
      " Path to PROJ.4 shared files: C:/Users/jfitton/AppData/Local/Continuum/anaconda3/envs/ISVEHI/Lib/R/library/rgdal/proj\n",
      " Linking to sp version: 1.3-1 \n"
     ]
    }
   ],
   "source": [
    "# load the libraries\n",
    "library(tidyverse)\n",
    "library(sf)\n",
    "library(raster)\n",
    "library(dplyr)\n",
    "library(rgdal)"
   ]
  },
  {
   "cell_type": "markdown",
   "metadata": {},
   "source": [
    "Set a temporary and export directory:"
   ]
  },
  {
   "cell_type": "code",
   "execution_count": 2,
   "metadata": {},
   "outputs": [],
   "source": [
    "#set a directory for export \n",
    "exportDirectory <- \"../1_InputData/1b_PopulationDensity\""
   ]
  },
  {
   "cell_type": "markdown",
   "metadata": {},
   "source": [
    "## 2.0 Population Data\n",
    "\n",
    "The population data is derived from the 2016 census which can be imported directly from the CSO website (this is the default) or using a local version:"
   ]
  },
  {
   "cell_type": "code",
   "execution_count": 3,
   "metadata": {},
   "outputs": [],
   "source": [
    "#get the data from the CSO website\n",
    "smallAreaCSOData <- read.csv(\"https://www.cso.ie/en/media/csoie/census/census2016/census2016boundaryfiles/SAPS2016_SA2017.csv\",  header=TRUE, sep=\",\")\n",
    "\n",
    "#get the data locally\n",
    "# smallAreaCSOData <- read.csv(\"../../CSOData/SAPS2016_SA2017.csv\", header=TRUE, sep=\",\", stringsAsFactors = FALSE)\n",
    "\n",
    "#get unique ID and population data only\n",
    "smallAreaPopulation <- smallAreaCSOData[, c('GUID', 'T1_1AGETT'), drop = FALSE]\n",
    "names(smallAreaPopulation)[2] <- 'populationTotal'\n",
    "\n",
    "# head(smallAreaPopulation)"
   ]
  },
  {
   "cell_type": "markdown",
   "metadata": {},
   "source": [
    "## 3.0 'Small Areas' Spatial Data\n",
    "\n",
    "The spatial data for the Small Areas used within the 2016 census can be imported directly from the CSO website (this is the default) or using a local version. The area of each Small Area has already been calculated and is available in the 'Shape_Are' attribute of the data - this data is converted from m<sup>2</sup> to km<sup>2</sup>. "
   ]
  },
  {
   "cell_type": "code",
   "execution_count": 4,
   "metadata": {},
   "outputs": [
    {
     "ename": "ERROR",
     "evalue": "Error in download.file(\"http://data-osi.opendata.arcgis.com/datasets/c85e610da1464178a2cd84a88020c8e2_3.zip\", : cannot open destfile './downloads/SmallAreasShp.zip', reason 'No such file or directory'\n",
     "output_type": "error",
     "traceback": [
      "Error in download.file(\"http://data-osi.opendata.arcgis.com/datasets/c85e610da1464178a2cd84a88020c8e2_3.zip\", : cannot open destfile './downloads/SmallAreasShp.zip', reason 'No such file or directory'\nTraceback:\n",
      "1. download.file(\"http://data-osi.opendata.arcgis.com/datasets/c85e610da1464178a2cd84a88020c8e2_3.zip\", \n .     destfile = \"./downloads/SmallAreasShp.zip\", mode = \"wb\")"
     ]
    }
   ],
   "source": [
    "#download the small area shapefile\n",
    "download.file(\"http://data-osi.opendata.arcgis.com/datasets/c85e610da1464178a2cd84a88020c8e2_3.zip\", \n",
    "              destfile = \"./downloads/SmallAreasShp.zip\" , mode='wb')\n",
    "unzip(\"./downloads/SmallAreasShp.zip\", exdir = \"./downloads\")\n",
    "\n",
    "#read the data - Small_Areas_Ungeneralised__OSi_National_Statistical_Boundaries__2015\n",
    "smallAreaShp <- st_read('./downloads/d9876b9b-96eb-4f04-afec-300c5d0a276c2020328-1-wq0rek.ua66c.shp')\n",
    "\n",
    "#use a local copy\n",
    "# smallAreaShp <- st_read(\"D:/Spatial_Data/CSO/Census_2016_Small_Areas/Shapefiles/Extracted/Small_Areas_Ungeneralised__OSi_National_Statistical_Boundaries__2015/Small_Areas_Ungeneralised__OSi_National_Statistical_Boundaries__2015.shp\")\n",
    "\n",
    "#convert to 'SpatialPolygonsDataFrame'\n",
    "smallAreaShp <- as(smallAreaShp, \"Spatial\")\n",
    "# head(smallAreaShp, n = 5)\n",
    "\n",
    "#convert to irenet95 / irish transverse mercator\n",
    "projIreNet95 <- \"+proj=tmerc +lat_0=53.5 +lon_0=-8 +k=0.99982 +x_0=600000 +y_0=750000 +ellps=GRS80 +towgs84=0,0,0,0,0,0,0 +units=m +no_defs\"\n",
    "smallAreaShp <- st_transform(smallAreaShp, projIreNet95)\n",
    "\n",
    "#convert the area from m2 to km2\n",
    "smallAreaShp$Shape__Are <- smallAreaShp$Shape__Are/1000000\n",
    "\n",
    "#get the the unique IDs data and the shape areas only\n",
    "smallAreaShp <- smallAreaShp[, c('GUID', 'SMALL_AREA', 'Shape__Are'), drop = FALSE]\n"
   ]
  },
  {
   "cell_type": "markdown",
   "metadata": {},
   "source": [
    "## 4.0 Combining the data\n",
    "\n",
    "The population data needs to be joined with the area data in order to calculate the density. This is done by matching the commmon filed of the GUID to merge to two datasets together."
   ]
  },
  {
   "cell_type": "code",
   "execution_count": null,
   "metadata": {},
   "outputs": [],
   "source": [
    "smallAreaShpPop <-  merge(smallAreaShp, smallAreaPopulation, 'GUID')\n",
    "# head(smallAreaShpPop)"
   ]
  },
  {
   "cell_type": "markdown",
   "metadata": {},
   "source": [
    "## 5.0 Population Density\n",
    "\n",
    "The population density can then be calculated and stored as a new field within the dataset. The final data is then exported to a csv for use in later analysis."
   ]
  },
  {
   "cell_type": "code",
   "execution_count": null,
   "metadata": {},
   "outputs": [],
   "source": [
    "#Population Density Calculation\n",
    "smallAreaShpPop$popDensity <- smallAreaShpPop$populationTotal/smallAreaShpPop$Shape__Are\n",
    "head(smallAreaShpPop)"
   ]
  },
  {
   "cell_type": "code",
   "execution_count": null,
   "metadata": {},
   "outputs": [],
   "source": [
    "#Scaled Population Density\n",
    "smallAreaShpPop$popDensityZ <- scale(smallAreaShpPop$popDensity)"
   ]
  },
  {
   "cell_type": "markdown",
   "metadata": {},
   "source": [
    "### 5.1 Export"
   ]
  },
  {
   "cell_type": "code",
   "execution_count": null,
   "metadata": {},
   "outputs": [],
   "source": [
    "#build export path\n",
    "exportPath <- paste(exportDirectory, 'populationDensitySmallArea2016', sep = '/')\n",
    "exportPath <- paste(exportPath, '.csv', sep = '')\n",
    "\n",
    "write.csv(smallAreaShpPop, exportPath, row.names = FALSE)\n"
   ]
  },
  {
   "cell_type": "markdown",
   "metadata": {},
   "source": [
    "**END**"
   ]
  }
 ],
 "metadata": {
  "kernelspec": {
   "display_name": "R",
   "language": "R",
   "name": "ir"
  },
  "language_info": {
   "codemirror_mode": "r",
   "file_extension": ".r",
   "mimetype": "text/x-r-source",
   "name": "R",
   "pygments_lexer": "r",
   "version": "3.6.1"
  },
  "toc": {
   "base_numbering": 1,
   "nav_menu": {},
   "number_sections": true,
   "sideBar": true,
   "skip_h1_title": false,
   "title_cell": "Table of Contents",
   "title_sidebar": "Contents",
   "toc_cell": false,
   "toc_position": {},
   "toc_section_display": true,
   "toc_window_display": false
  }
 },
 "nbformat": 4,
 "nbformat_minor": 2
}
