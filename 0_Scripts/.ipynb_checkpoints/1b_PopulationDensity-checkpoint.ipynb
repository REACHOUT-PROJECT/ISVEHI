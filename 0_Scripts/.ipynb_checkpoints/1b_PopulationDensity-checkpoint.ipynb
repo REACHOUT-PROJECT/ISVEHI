{
 "cells": [
  {
   "cell_type": "markdown",
   "metadata": {},
   "source": [
    "# Vulnerability Ireland \n",
    "\n",
    "Population density is an important indicator to consider in a vulnerability assessment. The population density can be derived for each of the 'Small Area' units of the 2016 Census.\n",
    "\n",
    "This script gets the population in each 'Small Area' in 2016 and the area of the 'Small Area' (in km<sup>2</sup>). These are then used to calculate the population density. "
   ]
  },
  {
   "cell_type": "markdown",
   "metadata": {},
   "source": [
    "## 1.0 Setup\n",
    "\n",
    "Load the R libraries:"
   ]
  },
  {
   "cell_type": "code",
   "execution_count": 2,
   "metadata": {},
   "outputs": [
    {
     "name": "stderr",
     "output_type": "stream",
     "text": [
      "Linking to GEOS 3.6.1, GDAL 2.2.3, PROJ 4.9.3\n",
      "Loading required package: sp\n",
      "\n",
      "Attaching package: 'raster'\n",
      "\n",
      "The following object is masked from 'package:dplyr':\n",
      "\n",
      "    select\n",
      "\n",
      "The following object is masked from 'package:tidyr':\n",
      "\n",
      "    extract\n",
      "\n",
      "rgdal: version: 1.4-4, (SVN revision 833)\n",
      " Geospatial Data Abstraction Library extensions to R successfully loaded\n",
      " Loaded GDAL runtime: GDAL 2.2.3, released 2017/11/20\n",
      " Path to GDAL shared files: C:/Users/jfitton/AppData/Local/Continuum/anaconda3/envs/climate-ireland/Lib/R/library/rgdal/gdal\n",
      " GDAL binary built with GEOS: TRUE \n",
      " Loaded PROJ.4 runtime: Rel. 4.9.3, 15 August 2016, [PJ_VERSION: 493]\n",
      " Path to PROJ.4 shared files: C:/Users/jfitton/AppData/Local/Continuum/anaconda3/envs/climate-ireland/Lib/R/library/rgdal/proj\n",
      " Linking to sp version: 1.3-1 \n"
     ]
    }
   ],
   "source": [
    "# load the libraries\n",
    "suppressPackageStartupMessages(library(tidyverse))\n",
    "library(sf)\n",
    "library(raster)\n",
    "library(dplyr)\n",
    "library(rgdal)"
   ]
  },
  {
   "cell_type": "markdown",
   "metadata": {},
   "source": [
    "Set a temporary and export directory:"
   ]
  },
  {
   "cell_type": "code",
   "execution_count": 3,
   "metadata": {},
   "outputs": [],
   "source": [
    "#set a temp directory\n",
    "tempDirectory <- \"C:/Temp\"\n",
    "\n",
    "#set a directory for export \n",
    "exportDirectory <- \"C:/GitHub/Climate-Ireland/Vulnerability/1_InputData/1b_PopulationDensity\""
   ]
  },
  {
   "cell_type": "markdown",
   "metadata": {},
   "source": [
    "## 2.0 Population Data\n",
    "\n",
    "The population data is derived from the 2016 census which can be imported directly from the CSO website (this is the default) or using a local version:"
   ]
  },
  {
   "cell_type": "code",
   "execution_count": 4,
   "metadata": {},
   "outputs": [],
   "source": [
    "#get the data from the CSO website\n",
    "smallAreaCSOData <- read.csv(\"https://www.cso.ie/en/media/csoie/census/census2016/census2016boundaryfiles/SAPS2016_SA2017.csv\",  header=TRUE, sep=\",\")\n",
    "\n",
    "#get the data locally\n",
    "# smallAreaCSOData <- read.csv(\"../../CSOData/SAPS2016_SA2017.csv\", header=TRUE, sep=\",\", stringsAsFactors = FALSE)\n",
    "\n",
    "#get unique ID and population data only\n",
    "smallAreaPopulation <- smallAreaCSOData[, c('GUID', 'T1_1AGETT'), drop = FALSE]\n",
    "names(smallAreaPopulation)[2] <- 'populationTotal'\n",
    "\n",
    "# head(smallAreaPopulation)"
   ]
  },
  {
   "cell_type": "markdown",
   "metadata": {},
   "source": [
    "## 3.0 'Small Areas' Spatial Data\n",
    "\n",
    "The spatial data for the Small Areas used within the 2016 census can be imported directly from the CSO website (this is the default) or using a local version. The area of each Small Area has already been calculated and is available in the 'Shape_Are' attribute of the data - this data is converted from m<sup>2</sup> to km<sup>2</sup>. "
   ]
  },
  {
   "cell_type": "code",
   "execution_count": 12,
   "metadata": {},
   "outputs": [
    {
     "data": {
      "text/html": [
       "TRUE"
      ],
      "text/latex": [
       "TRUE"
      ],
      "text/markdown": [
       "TRUE"
      ],
      "text/plain": [
       "[1] TRUE"
      ]
     },
     "metadata": {},
     "output_type": "display_data"
    },
    {
     "name": "stdout",
     "output_type": "stream",
     "text": [
      "Reading layer `Small_Areas_Ungeneralised__OSi_National_Statistical_Boundaries__2015' from data source `C:\\temp\\Small_Areas_Ungeneralised__OSi_National_Statistical_Boundaries__2015.shp' using driver `ESRI Shapefile'\n",
      "Simple feature collection with 18641 features and 21 fields\n",
      "geometry type:  MULTIPOLYGON\n",
      "dimension:      XY\n",
      "bbox:           xmin: -10.66297 ymin: 51.4199 xmax: -5.996278 ymax: 55.44658\n",
      "epsg (SRID):    4326\n",
      "proj4string:    +proj=longlat +datum=WGS84 +no_defs\n"
     ]
    }
   ],
   "source": [
    "#set a temp directory to download the data\n",
    "setwd(file.path(tempDirectory))\n",
    "\n",
    "#download the small area shapefile\n",
    "download.file(\"http://data-osi.opendata.arcgis.com/datasets/c85e610da1464178a2cd84a88020c8e2_3.zip\", \n",
    "              destfile = \"SmallAreasShp.zip\" , mode='wb')\n",
    "unzip(\"SmallAreasShp.zip\", exdir = \".\")\n",
    "file.remove(\"SmallAreasShp.zip\")\n",
    "smallAreaShp <- st_read('./Small_Areas_Ungeneralised__OSi_National_Statistical_Boundaries__2015.shp')\n",
    "\n",
    "#use a local copy\n",
    "# smallAreaShp <- st_read(\"D:/Spatial_Data/CSO/Census_2016_Small_Areas/Shapefiles/Extracted/Small_Areas_Ungeneralised__OSi_National_Statistical_Boundaries__2015/Small_Areas_Ungeneralised__OSi_National_Statistical_Boundaries__2015.shp\")\n",
    "\n",
    "#convert to 'SpatialPolygonsDataFrame'\n",
    "smallAreaShp <- as(smallAreaShp, \"Spatial\")\n",
    "# head(smallAreaShp, n = 5)\n",
    "\n",
    "#convert to irenet95 / irish transverse mercator\n",
    "projIreNet95 <- \"+proj=tmerc +lat_0=53.5 +lon_0=-8 +k=0.99982 +x_0=600000 +y_0=750000 +ellps=GRS80 +towgs84=0,0,0,0,0,0,0 +units=m +no_defs\"\n",
    "smallAreaShp <- spTransform(smallAreaShp, projIreNet95)\n",
    "\n",
    "#conver the area from m2 to km2\n",
    "smallAreaShp$Shape__Are <- smallAreaShp$Shape__Are/1000000\n",
    "\n",
    "#get the the unique IDs data and the shape areas only\n",
    "smallAreaShp <- smallAreaShp[, c('GUID', 'SMALL_AREA', 'Shape__Are'), drop = FALSE]\n"
   ]
  },
  {
   "cell_type": "markdown",
   "metadata": {},
   "source": [
    "## 4.0 Combining the data\n",
    "\n",
    "The population data needs to be joined with the area data in order to calculate the density. This is done by matching the commmon filed of the GUID to merge to two datasets together."
   ]
  },
  {
   "cell_type": "code",
   "execution_count": 13,
   "metadata": {},
   "outputs": [],
   "source": [
    "smallAreaShpPop <-  merge(smallAreaShp, smallAreaPopulation, 'GUID')\n",
    "# head(smallAreaShpPop)"
   ]
  },
  {
   "cell_type": "markdown",
   "metadata": {},
   "source": [
    "## 5.0 Population Density\n",
    "\n",
    "The population density can then be calculated and stored as a new field within the dataset. The final data is then exported to a csv for use in later analysis."
   ]
  },
  {
   "cell_type": "code",
   "execution_count": 14,
   "metadata": {},
   "outputs": [
    {
     "data": {
      "text/html": [
       "<table>\n",
       "<thead><tr><th></th><th scope=col>GUID</th><th scope=col>SMALL_AREA</th><th scope=col>Shape__Are</th><th scope=col>populationTotal</th><th scope=col>popDensity</th></tr></thead>\n",
       "<tbody>\n",
       "\t<tr><th scope=row>5178</th><td>4c07d11e-07e8-851d-e053-ca3ca8c0ca7f</td><td>027052001                           </td><td>5.877270                            </td><td>154                                 </td><td>26.20264                            </td></tr>\n",
       "\t<tr><th scope=row>5179</th><td>4c07d11e-07e9-851d-e053-ca3ca8c0ca7f</td><td>027022001                           </td><td>5.625952                            </td><td>283                                 </td><td>50.30260                            </td></tr>\n",
       "\t<tr><th scope=row>5180</th><td>4c07d11e-07ea-851d-e053-ca3ca8c0ca7f</td><td>027022002                           </td><td>7.133420                            </td><td>228                                 </td><td>31.96223                            </td></tr>\n",
       "\t<tr><th scope=row>7890</th><td>4c07d11e-1282-851d-e053-ca3ca8c0ca7f</td><td>057117001/057117002                 </td><td>7.682835                            </td><td>180                                 </td><td>23.42885                            </td></tr>\n",
       "\t<tr><th scope=row>7891</th><td>4c07d11e-1283-851d-e053-ca3ca8c0ca7f</td><td>057105002/057105004                 </td><td>6.085176                            </td><td>194                                 </td><td>31.88075                            </td></tr>\n",
       "\t<tr><th scope=row>7892</th><td>4c07d11e-1284-851d-e053-ca3ca8c0ca7f</td><td>057092004                           </td><td>5.262806                            </td><td>164                                 </td><td>31.16208                            </td></tr>\n",
       "</tbody>\n",
       "</table>\n"
      ],
      "text/latex": [
       "\\begin{tabular}{r|lllll}\n",
       "  & GUID & SMALL\\_AREA & Shape\\_\\_Are & populationTotal & popDensity\\\\\n",
       "\\hline\n",
       "\t5178 & 4c07d11e-07e8-851d-e053-ca3ca8c0ca7f & 027052001                            & 5.877270                             & 154                                  & 26.20264                            \\\\\n",
       "\t5179 & 4c07d11e-07e9-851d-e053-ca3ca8c0ca7f & 027022001                            & 5.625952                             & 283                                  & 50.30260                            \\\\\n",
       "\t5180 & 4c07d11e-07ea-851d-e053-ca3ca8c0ca7f & 027022002                            & 7.133420                             & 228                                  & 31.96223                            \\\\\n",
       "\t7890 & 4c07d11e-1282-851d-e053-ca3ca8c0ca7f & 057117001/057117002                  & 7.682835                             & 180                                  & 23.42885                            \\\\\n",
       "\t7891 & 4c07d11e-1283-851d-e053-ca3ca8c0ca7f & 057105002/057105004                  & 6.085176                             & 194                                  & 31.88075                            \\\\\n",
       "\t7892 & 4c07d11e-1284-851d-e053-ca3ca8c0ca7f & 057092004                            & 5.262806                             & 164                                  & 31.16208                            \\\\\n",
       "\\end{tabular}\n"
      ],
      "text/markdown": [
       "\n",
       "| <!--/--> | GUID | SMALL_AREA | Shape__Are | populationTotal | popDensity |\n",
       "|---|---|---|---|---|---|\n",
       "| 5178 | 4c07d11e-07e8-851d-e053-ca3ca8c0ca7f | 027052001                            | 5.877270                             | 154                                  | 26.20264                             |\n",
       "| 5179 | 4c07d11e-07e9-851d-e053-ca3ca8c0ca7f | 027022001                            | 5.625952                             | 283                                  | 50.30260                             |\n",
       "| 5180 | 4c07d11e-07ea-851d-e053-ca3ca8c0ca7f | 027022002                            | 7.133420                             | 228                                  | 31.96223                             |\n",
       "| 7890 | 4c07d11e-1282-851d-e053-ca3ca8c0ca7f | 057117001/057117002                  | 7.682835                             | 180                                  | 23.42885                             |\n",
       "| 7891 | 4c07d11e-1283-851d-e053-ca3ca8c0ca7f | 057105002/057105004                  | 6.085176                             | 194                                  | 31.88075                             |\n",
       "| 7892 | 4c07d11e-1284-851d-e053-ca3ca8c0ca7f | 057092004                            | 5.262806                             | 164                                  | 31.16208                             |\n",
       "\n"
      ],
      "text/plain": [
       "     GUID                                 SMALL_AREA          Shape__Are\n",
       "5178 4c07d11e-07e8-851d-e053-ca3ca8c0ca7f 027052001           5.877270  \n",
       "5179 4c07d11e-07e9-851d-e053-ca3ca8c0ca7f 027022001           5.625952  \n",
       "5180 4c07d11e-07ea-851d-e053-ca3ca8c0ca7f 027022002           7.133420  \n",
       "7890 4c07d11e-1282-851d-e053-ca3ca8c0ca7f 057117001/057117002 7.682835  \n",
       "7891 4c07d11e-1283-851d-e053-ca3ca8c0ca7f 057105002/057105004 6.085176  \n",
       "7892 4c07d11e-1284-851d-e053-ca3ca8c0ca7f 057092004           5.262806  \n",
       "     populationTotal popDensity\n",
       "5178 154             26.20264  \n",
       "5179 283             50.30260  \n",
       "5180 228             31.96223  \n",
       "7890 180             23.42885  \n",
       "7891 194             31.88075  \n",
       "7892 164             31.16208  "
      ]
     },
     "metadata": {},
     "output_type": "display_data"
    }
   ],
   "source": [
    "#Population Density Calculation\n",
    "smallAreaShpPop$popDensity <- smallAreaShpPop$populationTotal/smallAreaShpPop$Shape__Are\n",
    "head(smallAreaShpPop)"
   ]
  },
  {
   "cell_type": "code",
   "execution_count": 15,
   "metadata": {},
   "outputs": [],
   "source": [
    "#Scaled Population Density\n",
    "smallAreaShpPop$popDensityZ <- scale(smallAreaShpPop$popDensity)"
   ]
  },
  {
   "cell_type": "markdown",
   "metadata": {},
   "source": [
    "### 5.1 Export"
   ]
  },
  {
   "cell_type": "code",
   "execution_count": 16,
   "metadata": {},
   "outputs": [],
   "source": [
    "#build export path\n",
    "exportPath <- paste(exportDirectory, 'populationDensitySmallArea2016', sep = '/')\n",
    "exportPath <- paste(exportPath, '.csv', sep = '')\n",
    "\n",
    "write.csv(smallAreaShpPop, exportPath, row.names = FALSE)\n"
   ]
  },
  {
   "cell_type": "markdown",
   "metadata": {},
   "source": [
    "**END**"
   ]
  }
 ],
 "metadata": {
  "kernelspec": {
   "display_name": "R",
   "language": "R",
   "name": "ir"
  },
  "language_info": {
   "codemirror_mode": "r",
   "file_extension": ".r",
   "mimetype": "text/x-r-source",
   "name": "R",
   "pygments_lexer": "r",
   "version": "3.6.1"
  },
  "toc": {
   "base_numbering": 1,
   "nav_menu": {},
   "number_sections": true,
   "sideBar": true,
   "skip_h1_title": false,
   "title_cell": "Table of Contents",
   "title_sidebar": "Contents",
   "toc_cell": false,
   "toc_position": {},
   "toc_section_display": true,
   "toc_window_display": false
  }
 },
 "nbformat": 4,
 "nbformat_minor": 2
}
